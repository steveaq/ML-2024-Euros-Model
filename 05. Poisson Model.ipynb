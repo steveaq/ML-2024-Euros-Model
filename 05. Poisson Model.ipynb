{
 "cells": [
  {
   "cell_type": "code",
   "execution_count": 62,
   "id": "874fa6a4",
   "metadata": {},
   "outputs": [],
   "source": [
    "import pickle\n",
    "import pandas as pd\n",
    "import numpy as np\n",
    "import matplotlib.pyplot as plt\n",
    "import seaborn as sns\n",
    "\n",
    "import warnings\n",
    "warnings.filterwarnings(\"ignore\")"
   ]
  },
  {
   "cell_type": "code",
   "execution_count": 63,
   "id": "cb18c8b5",
   "metadata": {},
   "outputs": [],
   "source": [
    "with open('models/rf_home.pkl', 'rb') as f:\n",
    "    home_md = pickle.load(f)\n",
    "\n",
    "with open('models/rf_away.pkl', 'rb') as f:\n",
    "    away_md = pickle.load(f)"
   ]
  },
  {
   "cell_type": "code",
   "execution_count": 64,
   "id": "5b4e0550",
   "metadata": {},
   "outputs": [],
   "source": [
    "teams_data = pd.read_csv(\"data/new_model.csv\")"
   ]
  },
  {
   "cell_type": "code",
   "execution_count": 65,
   "id": "843c2ce7",
   "metadata": {},
   "outputs": [],
   "source": [
    "def find_team_features(home, away):\n",
    "    home_infos = teams_data[(teams_data.home_team == home) | (teams_data.away_team == home)].tail(1)\n",
    "    if home_infos.home_team.values[0] == home:\n",
    "        home_goals_scored = home_infos[\"home_goals_mean\"].values[0]\n",
    "        home_goals_suf = home_infos[\"home_goals_suf_mean\"].values[0]\n",
    "        home_points_made = home_infos[\"home_game_points_mean\"].values[0]\n",
    "        home_rank = home_infos[\"rank_home\"].values[0]\n",
    "    else:\n",
    "        home_goals_scored = home_infos[\"away_goals_mean\"].values[0]\n",
    "        home_goals_suf = home_infos[\"away_goals_suf_mean\"].values[0]\n",
    "        home_points_made = home_infos[\"away_game_points_mean\"].values[0]\n",
    "        home_rank = home_infos[\"rank_away\"].values[0]\n",
    "        \n",
    "    \n",
    "    away_infos = teams_data[(teams_data.home_team == away) | (teams_data.away_team == away)].tail(1)\n",
    "    if away_infos.home_team.values[0] == away:\n",
    "        away_goals_scored = away_infos[\"home_goals_mean\"].values[0]\n",
    "        away_goals_suf = away_infos[\"home_goals_suf_mean\"].values[0]\n",
    "        away_points_made = away_infos[\"home_game_points_mean\"].values[0]\n",
    "        away_rank = away_infos[\"rank_home\"].values[0]\n",
    "    else:\n",
    "        away_goals_scored = away_infos[\"away_goals_mean\"].values[0]\n",
    "        away_goals_suf = away_infos[\"away_goals_suf_mean\"].values[0]\n",
    "        away_points_made = away_infos[\"away_game_points_mean\"].values[0]\n",
    "        away_rank = away_infos[\"rank_away\"].values[0]\n",
    "\n",
    "    #print(home_rank, away_rank)\n",
    "    rank_dif = home_rank - away_rank\n",
    "    ht_features = [\n",
    "        home_goals_scored*rank_dif,\n",
    "        away_goals_suf*rank_dif,\n",
    "        home_points_made*rank_dif,\n",
    "        away_points_made*rank_dif\n",
    "    ]\n",
    "    \n",
    "    at_features = [\n",
    "        away_goals_scored*rank_dif,\n",
    "        home_goals_suf*rank_dif,\n",
    "        home_points_made*rank_dif,\n",
    "        away_points_made*rank_dif\n",
    "    ]\n",
    "    return ht_features, at_features"
   ]
  },
  {
   "cell_type": "code",
   "execution_count": 133,
   "id": "9ec019cd",
   "metadata": {},
   "outputs": [],
   "source": [
    "g, s = find_team_features(\"Italy\", \"Albania\")"
   ]
  },
  {
   "cell_type": "code",
   "execution_count": 134,
   "id": "e07b9679",
   "metadata": {},
   "outputs": [],
   "source": [
    "xg_g = home_md.predict([g])[0]"
   ]
  },
  {
   "cell_type": "code",
   "execution_count": 135,
   "id": "f36309a4",
   "metadata": {},
   "outputs": [],
   "source": [
    "xg_s = away_md.predict([s])[0]"
   ]
  },
  {
   "cell_type": "code",
   "execution_count": 136,
   "id": "a32611cb",
   "metadata": {},
   "outputs": [],
   "source": [
    "from scipy.stats import poisson"
   ]
  },
  {
   "cell_type": "code",
   "execution_count": 137,
   "id": "2929d069",
   "metadata": {},
   "outputs": [],
   "source": [
    "poisson_probs_g = poisson.pmf(np.arange(0, 10), xg_g)\n",
    "poisson_probs_s = poisson.pmf(np.arange(0, 10), xg_s)"
   ]
  },
  {
   "cell_type": "code",
   "execution_count": 138,
   "id": "25efbae3",
   "metadata": {},
   "outputs": [],
   "source": [
    "def plot_poisson(x, poisson_probs, team):\n",
    "    plt.figure(figsize=(10, 6))\n",
    "    plt.bar(x, poisson_probs, alpha=0.6, color='blue')\n",
    "    plt.plot(x, poisson_probs, 'bo', ms=8)\n",
    "    plt.title(f'Poisson Distribution - {team}')\n",
    "    plt.xlabel('Number of Events')\n",
    "    plt.ylabel('Probability')\n",
    "    plt.grid(True)\n",
    "    plt.show()"
   ]
  },
  {
   "cell_type": "code",
   "execution_count": 139,
   "id": "4924892a",
   "metadata": {},
   "outputs": [
    {
     "data": {
      "image/png": "[encoded data removed]",
      "text/plain": [
       "<Figure size 720x432 with 1 Axes>"
      ]
     },
     "metadata": {
      "needs_background": "light"
     },
     "output_type": "display_data"
    }
   ],
   "source": [
    "plot_poisson(np.arange(0,10), poisson_probs_g, \"Italy\")"
   ]
  },
  {
   "cell_type": "code",
   "execution_count": 140,
   "id": "3d5eece9",
   "metadata": {},
   "outputs": [
    {
     "data": {
      "image/png": "[encoded data removed]",
      "text/plain": [
       "<Figure size 720x432 with 1 Axes>"
      ]
     },
     "metadata": {
      "needs_background": "light"
     },
     "output_type": "display_data"
    }
   ],
   "source": [
    "plot_poisson(np.arange(0,10), poisson_probs_s, \"Albania\")"
   ]
  },
  {
   "cell_type": "code",
   "execution_count": 141,
   "id": "63437329",
   "metadata": {},
   "outputs": [],
   "source": [
    "res_track = np.zeros((10,10))\n",
    "\n",
    "for i in range(len(poisson_probs_g)):\n",
    "    for j in range(len(poisson_probs_s)):\n",
    "        res_prob = poisson_probs_g[i]*poisson_probs_s[j]\n",
    "        res_track[j][i] = res_prob"
   ]
  },
  {
   "cell_type": "code",
   "execution_count": 142,
   "id": "5c1b343f",
   "metadata": {},
   "outputs": [
    {
     "data": {
      "text/plain": [
       "array([1.57956616e-01, 2.91498646e-01, 2.68970883e-01, 1.65456082e-01,\n",
       "       7.63346055e-02, 2.81741085e-02, 8.66558035e-03, 2.28453773e-03,\n",
       "       5.26995698e-04, 1.08059582e-04])"
      ]
     },
     "execution_count": 142,
     "metadata": {},
     "output_type": "execute_result"
    }
   ],
   "source": [
    "poisson_probs_g"
   ]
  },
  {
   "cell_type": "code",
   "execution_count": 143,
   "id": "8c2de72d",
   "metadata": {},
   "outputs": [
    {
     "data": {
      "text/plain": [
       "array([6.10015107e-01, 3.01513116e-01, 7.45146786e-02, 1.22768287e-02,\n",
       "       1.51702181e-03, 1.49964146e-04, 1.23538353e-05, 8.72307057e-07,\n",
       "       5.38945708e-08, 2.95983927e-09])"
      ]
     },
     "execution_count": 143,
     "metadata": {},
     "output_type": "execute_result"
    }
   ],
   "source": [
    "poisson_probs_s"
   ]
  },
  {
   "cell_type": "code",
   "execution_count": 144,
   "id": "1e853e32",
   "metadata": {},
   "outputs": [],
   "source": [
    "res_df = pd.DataFrame(res_track)"
   ]
  },
  {
   "cell_type": "code",
   "execution_count": 146,
   "id": "c78836f4",
   "metadata": {},
   "outputs": [],
   "source": [
    "res_df.columns = [\"Italy \" + str(a) for a in res_df.columns] \n",
    "res_df.index = [\"Albania \" + str(a) for a in res_df.index] "
   ]
  },
  {
   "cell_type": "code",
   "execution_count": 147,
   "id": "9b535ada",
   "metadata": {},
   "outputs": [],
   "source": [
    "def style_specific_cells(x):\n",
    "    color = ''\n",
    "    \n",
    "    df_styled = pd.DataFrame('', index=x.index, columns=x.columns)\n",
    "    for i in range(x.shape[0]):\n",
    "        for j in range(x.shape[1]):\n",
    "            if i == j:\n",
    "                color = 'background-color: yellow'\n",
    "            elif j > i:\n",
    "                color = 'background-color: green'\n",
    "            else:\n",
    "                color = 'background-color: lightcoral'\n",
    "            df_styled.iloc[i, j] = color\n",
    "    return df_styled\n"
   ]
  },
  {
   "cell_type": "code",
   "execution_count": 148,
   "id": "a86da518",
   "metadata": {},
   "outputs": [
    {
     "data": {
      "text/html": [
       "<style type=\"text/css\">\n",
       "#T_41121_row0_col0, #T_41121_row1_col1, #T_41121_row2_col2, #T_41121_row3_col3, #T_41121_row4_col4, #T_41121_row5_col5, #T_41121_row6_col6, #T_41121_row7_col7, #T_41121_row8_col8, #T_41121_row9_col9 {\n",
       "  background-color: yellow;\n",
       "}\n",
       "#T_41121_row0_col1, #T_41121_row0_col2, #T_41121_row0_col3, #T_41121_row0_col4, #T_41121_row0_col5, #T_41121_row0_col6, #T_41121_row0_col7, #T_41121_row0_col8, #T_41121_row0_col9, #T_41121_row1_col2, #T_41121_row1_col3, #T_41121_row1_col4, #T_41121_row1_col5, #T_41121_row1_col6, #T_41121_row1_col7, #T_41121_row1_col8, #T_41121_row1_col9, #T_41121_row2_col3, #T_41121_row2_col4, #T_41121_row2_col5, #T_41121_row2_col6, #T_41121_row2_col7, #T_41121_row2_col8, #T_41121_row2_col9, #T_41121_row3_col4, #T_41121_row3_col5, #T_41121_row3_col6, #T_41121_row3_col7, #T_41121_row3_col8, #T_41121_row3_col9, #T_41121_row4_col5, #T_41121_row4_col6, #T_41121_row4_col7, #T_41121_row4_col8, #T_41121_row4_col9, #T_41121_row5_col6, #T_41121_row5_col7, #T_41121_row5_col8, #T_41121_row5_col9, #T_41121_row6_col7, #T_41121_row6_col8, #T_41121_row6_col9, #T_41121_row7_col8, #T_41121_row7_col9, #T_41121_row8_col9 {\n",
       "  background-color: green;\n",
       "}\n",
       "#T_41121_row1_col0, #T_41121_row2_col0, #T_41121_row2_col1, #T_41121_row3_col0, #T_41121_row3_col1, #T_41121_row3_col2, #T_41121_row4_col0, #T_41121_row4_col1, #T_41121_row4_col2, #T_41121_row4_col3, #T_41121_row5_col0, #T_41121_row5_col1, #T_41121_row5_col2, #T_41121_row5_col3, #T_41121_row5_col4, #T_41121_row6_col0, #T_41121_row6_col1, #T_41121_row6_col2, #T_41121_row6_col3, #T_41121_row6_col4, #T_41121_row6_col5, #T_41121_row7_col0, #T_41121_row7_col1, #T_41121_row7_col2, #T_41121_row7_col3, #T_41121_row7_col4, #T_41121_row7_col5, #T_41121_row7_col6, #T_41121_row8_col0, #T_41121_row8_col1, #T_41121_row8_col2, #T_41121_row8_col3, #T_41121_row8_col4, #T_41121_row8_col5, #T_41121_row8_col6, #T_41121_row8_col7, #T_41121_row9_col0, #T_41121_row9_col1, #T_41121_row9_col2, #T_41121_row9_col3, #T_41121_row9_col4, #T_41121_row9_col5, #T_41121_row9_col6, #T_41121_row9_col7, #T_41121_row9_col8 {\n",
       "  background-color: lightcoral;\n",
       "}\n",
       "</style>\n",
       "<table id=\"T_41121_\">\n",
       "  <thead>\n",
       "    <tr>\n",
       "      <th class=\"blank level0\" >&nbsp;</th>\n",
       "      <th class=\"col_heading level0 col0\" >Italy 0</th>\n",
       "      <th class=\"col_heading level0 col1\" >Italy 1</th>\n",
       "      <th class=\"col_heading level0 col2\" >Italy 2</th>\n",
       "      <th class=\"col_heading level0 col3\" >Italy 3</th>\n",
       "      <th class=\"col_heading level0 col4\" >Italy 4</th>\n",
       "      <th class=\"col_heading level0 col5\" >Italy 5</th>\n",
       "      <th class=\"col_heading level0 col6\" >Italy 6</th>\n",
       "      <th class=\"col_heading level0 col7\" >Italy 7</th>\n",
       "      <th class=\"col_heading level0 col8\" >Italy 8</th>\n",
       "      <th class=\"col_heading level0 col9\" >Italy 9</th>\n",
       "    </tr>\n",
       "  </thead>\n",
       "  <tbody>\n",
       "    <tr>\n",
       "      <th id=\"T_41121_level0_row0\" class=\"row_heading level0 row0\" >Albania 0</th>\n",
       "      <td id=\"T_41121_row0_col0\" class=\"data row0 col0\" >9.64%</td>\n",
       "      <td id=\"T_41121_row0_col1\" class=\"data row0 col1\" >17.78%</td>\n",
       "      <td id=\"T_41121_row0_col2\" class=\"data row0 col2\" >16.41%</td>\n",
       "      <td id=\"T_41121_row0_col3\" class=\"data row0 col3\" >10.09%</td>\n",
       "      <td id=\"T_41121_row0_col4\" class=\"data row0 col4\" >4.66%</td>\n",
       "      <td id=\"T_41121_row0_col5\" class=\"data row0 col5\" >1.72%</td>\n",
       "      <td id=\"T_41121_row0_col6\" class=\"data row0 col6\" >0.53%</td>\n",
       "      <td id=\"T_41121_row0_col7\" class=\"data row0 col7\" >0.14%</td>\n",
       "      <td id=\"T_41121_row0_col8\" class=\"data row0 col8\" >0.03%</td>\n",
       "      <td id=\"T_41121_row0_col9\" class=\"data row0 col9\" >0.01%</td>\n",
       "    </tr>\n",
       "    <tr>\n",
       "      <th id=\"T_41121_level0_row1\" class=\"row_heading level0 row1\" >Albania 1</th>\n",
       "      <td id=\"T_41121_row1_col0\" class=\"data row1 col0\" >4.76%</td>\n",
       "      <td id=\"T_41121_row1_col1\" class=\"data row1 col1\" >8.79%</td>\n",
       "      <td id=\"T_41121_row1_col2\" class=\"data row1 col2\" >8.11%</td>\n",
       "      <td id=\"T_41121_row1_col3\" class=\"data row1 col3\" >4.99%</td>\n",
       "      <td id=\"T_41121_row1_col4\" class=\"data row1 col4\" >2.30%</td>\n",
       "      <td id=\"T_41121_row1_col5\" class=\"data row1 col5\" >0.85%</td>\n",
       "      <td id=\"T_41121_row1_col6\" class=\"data row1 col6\" >0.26%</td>\n",
       "      <td id=\"T_41121_row1_col7\" class=\"data row1 col7\" >0.07%</td>\n",
       "      <td id=\"T_41121_row1_col8\" class=\"data row1 col8\" >0.02%</td>\n",
       "      <td id=\"T_41121_row1_col9\" class=\"data row1 col9\" >0.00%</td>\n",
       "    </tr>\n",
       "    <tr>\n",
       "      <th id=\"T_41121_level0_row2\" class=\"row_heading level0 row2\" >Albania 2</th>\n",
       "      <td id=\"T_41121_row2_col0\" class=\"data row2 col0\" >1.18%</td>\n",
       "      <td id=\"T_41121_row2_col1\" class=\"data row2 col1\" >2.17%</td>\n",
       "      <td id=\"T_41121_row2_col2\" class=\"data row2 col2\" >2.00%</td>\n",
       "      <td id=\"T_41121_row2_col3\" class=\"data row2 col3\" >1.23%</td>\n",
       "      <td id=\"T_41121_row2_col4\" class=\"data row2 col4\" >0.57%</td>\n",
       "      <td id=\"T_41121_row2_col5\" class=\"data row2 col5\" >0.21%</td>\n",
       "      <td id=\"T_41121_row2_col6\" class=\"data row2 col6\" >0.06%</td>\n",
       "      <td id=\"T_41121_row2_col7\" class=\"data row2 col7\" >0.02%</td>\n",
       "      <td id=\"T_41121_row2_col8\" class=\"data row2 col8\" >0.00%</td>\n",
       "      <td id=\"T_41121_row2_col9\" class=\"data row2 col9\" >0.00%</td>\n",
       "    </tr>\n",
       "    <tr>\n",
       "      <th id=\"T_41121_level0_row3\" class=\"row_heading level0 row3\" >Albania 3</th>\n",
       "      <td id=\"T_41121_row3_col0\" class=\"data row3 col0\" >0.19%</td>\n",
       "      <td id=\"T_41121_row3_col1\" class=\"data row3 col1\" >0.36%</td>\n",
       "      <td id=\"T_41121_row3_col2\" class=\"data row3 col2\" >0.33%</td>\n",
       "      <td id=\"T_41121_row3_col3\" class=\"data row3 col3\" >0.20%</td>\n",
       "      <td id=\"T_41121_row3_col4\" class=\"data row3 col4\" >0.09%</td>\n",
       "      <td id=\"T_41121_row3_col5\" class=\"data row3 col5\" >0.03%</td>\n",
       "      <td id=\"T_41121_row3_col6\" class=\"data row3 col6\" >0.01%</td>\n",
       "      <td id=\"T_41121_row3_col7\" class=\"data row3 col7\" >0.00%</td>\n",
       "      <td id=\"T_41121_row3_col8\" class=\"data row3 col8\" >0.00%</td>\n",
       "      <td id=\"T_41121_row3_col9\" class=\"data row3 col9\" >0.00%</td>\n",
       "    </tr>\n",
       "    <tr>\n",
       "      <th id=\"T_41121_level0_row4\" class=\"row_heading level0 row4\" >Albania 4</th>\n",
       "      <td id=\"T_41121_row4_col0\" class=\"data row4 col0\" >0.02%</td>\n",
       "      <td id=\"T_41121_row4_col1\" class=\"data row4 col1\" >0.04%</td>\n",
       "      <td id=\"T_41121_row4_col2\" class=\"data row4 col2\" >0.04%</td>\n",
       "      <td id=\"T_41121_row4_col3\" class=\"data row4 col3\" >0.03%</td>\n",
       "      <td id=\"T_41121_row4_col4\" class=\"data row4 col4\" >0.01%</td>\n",
       "      <td id=\"T_41121_row4_col5\" class=\"data row4 col5\" >0.00%</td>\n",
       "      <td id=\"T_41121_row4_col6\" class=\"data row4 col6\" >0.00%</td>\n",
       "      <td id=\"T_41121_row4_col7\" class=\"data row4 col7\" >0.00%</td>\n",
       "      <td id=\"T_41121_row4_col8\" class=\"data row4 col8\" >0.00%</td>\n",
       "      <td id=\"T_41121_row4_col9\" class=\"data row4 col9\" >0.00%</td>\n",
       "    </tr>\n",
       "    <tr>\n",
       "      <th id=\"T_41121_level0_row5\" class=\"row_heading level0 row5\" >Albania 5</th>\n",
       "      <td id=\"T_41121_row5_col0\" class=\"data row5 col0\" >0.00%</td>\n",
       "      <td id=\"T_41121_row5_col1\" class=\"data row5 col1\" >0.00%</td>\n",
       "      <td id=\"T_41121_row5_col2\" class=\"data row5 col2\" >0.00%</td>\n",
       "      <td id=\"T_41121_row5_col3\" class=\"data row5 col3\" >0.00%</td>\n",
       "      <td id=\"T_41121_row5_col4\" class=\"data row5 col4\" >0.00%</td>\n",
       "      <td id=\"T_41121_row5_col5\" class=\"data row5 col5\" >0.00%</td>\n",
       "      <td id=\"T_41121_row5_col6\" class=\"data row5 col6\" >0.00%</td>\n",
       "      <td id=\"T_41121_row5_col7\" class=\"data row5 col7\" >0.00%</td>\n",
       "      <td id=\"T_41121_row5_col8\" class=\"data row5 col8\" >0.00%</td>\n",
       "      <td id=\"T_41121_row5_col9\" class=\"data row5 col9\" >0.00%</td>\n",
       "    </tr>\n",
       "    <tr>\n",
       "      <th id=\"T_41121_level0_row6\" class=\"row_heading level0 row6\" >Albania 6</th>\n",
       "      <td id=\"T_41121_row6_col0\" class=\"data row6 col0\" >0.00%</td>\n",
       "      <td id=\"T_41121_row6_col1\" class=\"data row6 col1\" >0.00%</td>\n",
       "      <td id=\"T_41121_row6_col2\" class=\"data row6 col2\" >0.00%</td>\n",
       "      <td id=\"T_41121_row6_col3\" class=\"data row6 col3\" >0.00%</td>\n",
       "      <td id=\"T_41121_row6_col4\" class=\"data row6 col4\" >0.00%</td>\n",
       "      <td id=\"T_41121_row6_col5\" class=\"data row6 col5\" >0.00%</td>\n",
       "      <td id=\"T_41121_row6_col6\" class=\"data row6 col6\" >0.00%</td>\n",
       "      <td id=\"T_41121_row6_col7\" class=\"data row6 col7\" >0.00%</td>\n",
       "      <td id=\"T_41121_row6_col8\" class=\"data row6 col8\" >0.00%</td>\n",
       "      <td id=\"T_41121_row6_col9\" class=\"data row6 col9\" >0.00%</td>\n",
       "    </tr>\n",
       "    <tr>\n",
       "      <th id=\"T_41121_level0_row7\" class=\"row_heading level0 row7\" >Albania 7</th>\n",
       "      <td id=\"T_41121_row7_col0\" class=\"data row7 col0\" >0.00%</td>\n",
       "      <td id=\"T_41121_row7_col1\" class=\"data row7 col1\" >0.00%</td>\n",
       "      <td id=\"T_41121_row7_col2\" class=\"data row7 col2\" >0.00%</td>\n",
       "      <td id=\"T_41121_row7_col3\" class=\"data row7 col3\" >0.00%</td>\n",
       "      <td id=\"T_41121_row7_col4\" class=\"data row7 col4\" >0.00%</td>\n",
       "      <td id=\"T_41121_row7_col5\" class=\"data row7 col5\" >0.00%</td>\n",
       "      <td id=\"T_41121_row7_col6\" class=\"data row7 col6\" >0.00%</td>\n",
       "      <td id=\"T_41121_row7_col7\" class=\"data row7 col7\" >0.00%</td>\n",
       "      <td id=\"T_41121_row7_col8\" class=\"data row7 col8\" >0.00%</td>\n",
       "      <td id=\"T_41121_row7_col9\" class=\"data row7 col9\" >0.00%</td>\n",
       "    </tr>\n",
       "    <tr>\n",
       "      <th id=\"T_41121_level0_row8\" class=\"row_heading level0 row8\" >Albania 8</th>\n",
       "      <td id=\"T_41121_row8_col0\" class=\"data row8 col0\" >0.00%</td>\n",
       "      <td id=\"T_41121_row8_col1\" class=\"data row8 col1\" >0.00%</td>\n",
       "      <td id=\"T_41121_row8_col2\" class=\"data row8 col2\" >0.00%</td>\n",
       "      <td id=\"T_41121_row8_col3\" class=\"data row8 col3\" >0.00%</td>\n",
       "      <td id=\"T_41121_row8_col4\" class=\"data row8 col4\" >0.00%</td>\n",
       "      <td id=\"T_41121_row8_col5\" class=\"data row8 col5\" >0.00%</td>\n",
       "      <td id=\"T_41121_row8_col6\" class=\"data row8 col6\" >0.00%</td>\n",
       "      <td id=\"T_41121_row8_col7\" class=\"data row8 col7\" >0.00%</td>\n",
       "      <td id=\"T_41121_row8_col8\" class=\"data row8 col8\" >0.00%</td>\n",
       "      <td id=\"T_41121_row8_col9\" class=\"data row8 col9\" >0.00%</td>\n",
       "    </tr>\n",
       "    <tr>\n",
       "      <th id=\"T_41121_level0_row9\" class=\"row_heading level0 row9\" >Albania 9</th>\n",
       "      <td id=\"T_41121_row9_col0\" class=\"data row9 col0\" >0.00%</td>\n",
       "      <td id=\"T_41121_row9_col1\" class=\"data row9 col1\" >0.00%</td>\n",
       "      <td id=\"T_41121_row9_col2\" class=\"data row9 col2\" >0.00%</td>\n",
       "      <td id=\"T_41121_row9_col3\" class=\"data row9 col3\" >0.00%</td>\n",
       "      <td id=\"T_41121_row9_col4\" class=\"data row9 col4\" >0.00%</td>\n",
       "      <td id=\"T_41121_row9_col5\" class=\"data row9 col5\" >0.00%</td>\n",
       "      <td id=\"T_41121_row9_col6\" class=\"data row9 col6\" >0.00%</td>\n",
       "      <td id=\"T_41121_row9_col7\" class=\"data row9 col7\" >0.00%</td>\n",
       "      <td id=\"T_41121_row9_col8\" class=\"data row9 col8\" >0.00%</td>\n",
       "      <td id=\"T_41121_row9_col9\" class=\"data row9 col9\" >0.00%</td>\n",
       "    </tr>\n",
       "  </tbody>\n",
       "</table>\n"
      ],
      "text/plain": [
       "<pandas.io.formats.style.Styler at 0x7fb55f8cc898>"
      ]
     },
     "execution_count": 148,
     "metadata": {},
     "output_type": "execute_result"
    }
   ],
   "source": [
    "res_df.style.format(\"{:.2%}\").apply(style_specific_cells, axis=None)"
   ]
  },
  {
   "cell_type": "code",
   "execution_count": 149,
   "id": "cea33d96",
   "metadata": {},
   "outputs": [],
   "source": [
    "def find_probs(poisson_home, poisson_away):\n",
    "    home_probs = []\n",
    "    away_probs = []\n",
    "    draw_probs = []\n",
    "    both_score_probs = []\n",
    "    over_1_5_probs = []\n",
    "    under_1_5_probs = []\n",
    "    over_2_5_probs = []\n",
    "    under_2_5_probs = []\n",
    "    \n",
    "    for i in range(len(poisson_home)):\n",
    "        for j in range(len(poisson_away)):\n",
    "            res_prob = poisson_home[i] * poisson_away[j]\n",
    "            \n",
    "            if i == j:\n",
    "                draw_probs.append(res_prob)\n",
    "            elif i > j:\n",
    "                home_probs.append(res_prob)\n",
    "            elif j > i:\n",
    "                away_probs.append(res_prob)\n",
    "            \n",
    "            # Both teams score\n",
    "            if i > 0 and j > 0:\n",
    "                both_score_probs.append(res_prob)\n",
    "            \n",
    "            # Over and under 1.5 goals\n",
    "            if (i + j) > 1.5:\n",
    "                over_1_5_probs.append(res_prob)\n",
    "            else:\n",
    "                under_1_5_probs.append(res_prob)\n",
    "                \n",
    "            # Over and under 2.5 goals\n",
    "            if (i + j) > 2.5:\n",
    "                over_2_5_probs.append(res_prob)\n",
    "            else:\n",
    "                under_2_5_probs.append(res_prob)\n",
    "    \n",
    "    both_score_prob = sum(both_score_probs)\n",
    "    over_1_5_prob = sum(over_1_5_probs)\n",
    "    under_1_5_prob = sum(under_1_5_probs)\n",
    "    over_2_5_prob = sum(over_2_5_probs)\n",
    "    under_2_5_prob = sum(under_2_5_probs)\n",
    "\n",
    "    # max_prob_index = np.unravel_index(np.argmax(res_track), res_track.shape)\n",
    "    # g1, g2 = max_prob_index\n",
    "\n",
    "    \n",
    "    return (sum(home_probs), sum(draw_probs), sum(away_probs), \n",
    "            poisson_home.tolist().index(max(poisson_home.tolist())), \n",
    "            poisson_away.tolist().index(max(poisson_away.tolist())),\n",
    "            both_score_prob, over_1_5_prob, under_1_5_prob, \n",
    "            over_2_5_prob, under_2_5_prob)"
   ]
  },
  {
   "cell_type": "code",
   "execution_count": 150,
   "id": "410f0797",
   "metadata": {},
   "outputs": [],
   "source": [
    "gw, draw, sw, g1, g2, both_score, over_1_5, under_1_5, over_2_5, under_2_5 = find_probs(poisson_probs_g, poisson_probs_s)\n"
   ]
  },
  {
   "cell_type": "code",
   "execution_count": 151,
   "id": "28017b21",
   "metadata": {},
   "outputs": [
    {
     "name": "stdout",
     "output_type": "stream",
     "text": [
      "Italy Wins: 70.21%\n",
      "Draw: 20.64%\n",
      "Albania Wins: 9.14%\n",
      "Both teams to score probability: 32.84%\n",
      "Over 1.5 goals probability:, 67.82%\n",
      "Under 1.5 goals probability: 32.18%\n",
      "Over 2.5 goals probability: 41.44%\n",
      "Under 2.5 goals probability: 58.55%\n"
     ]
    }
   ],
   "source": [
    "print(f\"Italy Wins: {gw:.2%}\")\n",
    "print(f\"Draw: {draw:.2%}\")\n",
    "print(f\"Albania Wins: {sw:.2%}\")\n",
    "print(f\"Both teams to score probability: {both_score:.2%}\")\n",
    "print(f\"Over 1.5 goals probability:, {over_1_5:.2%}\")\n",
    "print(f\"Under 1.5 goals probability: {under_1_5:.2%}\")\n",
    "print(f\"Over 2.5 goals probability: {over_2_5:.2%}\")\n",
    "print(f\"Under 2.5 goals probability: {under_2_5:.2%}\")"
   ]
  },
  {
   "cell_type": "code",
   "execution_count": 152,
   "id": "f23161fd",
   "metadata": {},
   "outputs": [
    {
     "data": {
      "text/plain": [
       "(0.7021008320508983,\n",
       " 0.20644027765975023,\n",
       " 0.09143500438843133,\n",
       " 1,\n",
       " 0,\n",
       " 0.32837488359670436,\n",
       " 0.6781756224193249,\n",
       " 0.321800491679755,\n",
       " 0.4144385687309792,\n",
       " 0.5855375453681007)"
      ]
     },
     "execution_count": 152,
     "metadata": {},
     "output_type": "execute_result"
    }
   ],
   "source": [
    "find_probs(poisson_probs_g, poisson_probs_s)"
   ]
  },
  {
   "cell_type": "markdown",
   "id": "5bb41974",
   "metadata": {},
   "source": [
    "## Complete sim\n",
    "\n",
    "With the model done, I'll simulate each game in the UEFA Euro to find the most likely results"
   ]
  },
  {
   "cell_type": "code",
   "execution_count": 85,
   "id": "500197f6",
   "metadata": {},
   "outputs": [],
   "source": [
    "euro = pd.read_csv(\"data/euro_matches.csv\")"
   ]
  },
  {
   "cell_type": "code",
   "execution_count": 87,
   "id": "f24b2a14",
   "metadata": {},
   "outputs": [],
   "source": [
    "group_phase = euro.dropna(subset=['home_team'])\n",
    "r1 = group_phase.head(12).copy()\n",
    "r1[\"Group\"] = ['A', 'A', 'B', 'B', 'C', 'C', 'D', 'D', 'E', 'E', 'F', 'F']\n",
    "groups = r1.Group.drop_duplicates().values\n"
   ]
  },
  {
   "cell_type": "code",
   "execution_count": 90,
   "id": "cc3c0034",
   "metadata": {},
   "outputs": [],
   "source": [
    "group_dict = {}\n",
    "for g in groups:\n",
    "    teams1 = r1[r1.Group == g].home_team.values.tolist()\n",
    "    teams2 = r1[r1.Group == g].away_team.values.tolist()\n",
    "    teams = teams1+teams2\n",
    "    group_dict[g] = {a: [0, 0, 0] for a in teams}"
   ]
  },
  {
   "cell_type": "code",
   "execution_count": 91,
   "id": "174ff281",
   "metadata": {},
   "outputs": [],
   "source": [
    "group_phase['Group'] = group_phase.home_team.apply(lambda x: r1[r1.home_team == x].Group.values[0] if len(r1[r1.home_team == x])>0 else r1[r1.away_team == x].Group.values[0])"
   ]
  },
  {
   "cell_type": "code",
   "execution_count": 129,
   "id": "0ee8fe3e",
   "metadata": {
    "scrolled": false
   },
   "outputs": [
    {
     "name": "stdout",
     "output_type": "stream",
     "text": [
      "Germany Wins: 60.73%\n",
      "Draw: 20.70%\n",
      "Scotland Wins: 18.56%\n",
      "most prob result Germany 2 - 1 Scotland\n",
      "Both teams to score probability: 56.87%\n",
      "------------------------------------------\n",
      "Hungary Wins: 30.36%\n",
      "Draw: 30.91%\n",
      "Switzerland Wins: 38.73%\n",
      "most prob result Hungary 0 - 1 Switzerland\n",
      "Both teams to score probability: 39.24%\n",
      "------------------------------------------\n",
      "Spain Wins: 54.01%\n",
      "Draw: 24.49%\n",
      "Croatia Wins: 21.50%\n",
      "most prob result Spain 1 - 0 Croatia\n",
      "Both teams to score probability: 49.37%\n",
      "------------------------------------------\n",
      "Italy Wins: 70.21%\n",
      "Draw: 20.64%\n",
      "Albania Wins: 9.14%\n",
      "most prob result Italy 1 - 0 Albania\n",
      "Both teams to score probability: 32.84%\n",
      "------------------------------------------\n",
      "Slovenia Wins: 19.01%\n",
      "Draw: 28.32%\n",
      "Denmark Wins: 52.67%\n",
      "most prob result Slovenia 0 - 1 Denmark\n",
      "Both teams to score probability: 36.67%\n",
      "------------------------------------------\n",
      "Serbia Wins: 25.43%\n",
      "Draw: 28.06%\n",
      "England Wins: 46.52%\n",
      "most prob result Serbia 0 - 1 England\n",
      "Both teams to score probability: 43.66%\n",
      "------------------------------------------\n",
      "Poland Wins: 18.64%\n",
      "Draw: 25.90%\n",
      "Netherlands Wins: 55.46%\n",
      "most prob result Poland 0 - 1 Netherlands\n",
      "Both teams to score probability: 41.61%\n",
      "------------------------------------------\n",
      "Austria Wins: 20.46%\n",
      "Draw: 25.00%\n",
      "France Wins: 54.54%\n",
      "most prob result Austria 0 - 1 France\n",
      "Both teams to score probability: 46.50%\n",
      "------------------------------------------\n",
      "Romania Wins: 38.17%\n",
      "Draw: 33.09%\n",
      "Ukraine Wins: 28.74%\n",
      "most prob result Romania 0 - 0 Ukraine\n",
      "Both teams to score probability: 34.10%\n",
      "------------------------------------------\n",
      "Belgium Wins: 68.42%\n",
      "Draw: 21.38%\n",
      "Slovakia Wins: 10.20%\n",
      "most prob result Belgium 1 - 0 Slovakia\n",
      "Both teams to score probability: 34.42%\n",
      "------------------------------------------\n",
      "Turkey Wins: 66.42%\n",
      "Draw: 23.16%\n",
      "Georgia Wins: 10.42%\n",
      "most prob result Turkey 1 - 0 Georgia\n",
      "Both teams to score probability: 31.31%\n",
      "------------------------------------------\n",
      "Portugal Wins: 76.01%\n",
      "Draw: 17.10%\n",
      "Czech Republic Wins: 6.88%\n",
      "most prob result Portugal 2 - 0 Czech Republic\n",
      "Both teams to score probability: 32.66%\n",
      "------------------------------------------\n",
      "Germany Wins: 47.52%\n",
      "Draw: 26.64%\n",
      "Hungary Wins: 25.84%\n",
      "most prob result Germany 1 - 0 Hungary\n",
      "Both teams to score probability: 47.78%\n",
      "------------------------------------------\n",
      "Scotland Wins: 35.46%\n",
      "Draw: 31.76%\n",
      "Switzerland Wins: 32.79%\n",
      "most prob result Scotland 0 - 0 Switzerland\n",
      "Both teams to score probability: 37.71%\n",
      "------------------------------------------\n",
      "Croatia Wins: 68.28%\n",
      "Draw: 22.62%\n",
      "Albania Wins: 9.10%\n",
      "most prob result Croatia 1 - 0 Albania\n",
      "Both teams to score probability: 28.78%\n",
      "------------------------------------------\n",
      "Spain Wins: 40.26%\n",
      "Draw: 27.95%\n",
      "Italy Wins: 31.79%\n",
      "most prob result Spain 1 - 1 Italy\n",
      "Both teams to score probability: 47.32%\n",
      "------------------------------------------\n",
      "Slovenia Wins: 18.20%\n",
      "Draw: 24.88%\n",
      "Serbia Wins: 56.91%\n",
      "most prob result Slovenia 0 - 1 Serbia\n",
      "Both teams to score probability: 43.47%\n",
      "------------------------------------------\n",
      "Denmark Wins: 18.79%\n",
      "Draw: 23.19%\n",
      "England Wins: 58.02%\n",
      "most prob result Denmark 0 - 1 England\n",
      "Both teams to score probability: 49.15%\n",
      "------------------------------------------\n",
      "Poland Wins: 44.01%\n",
      "Draw: 27.02%\n",
      "Austria Wins: 28.97%\n",
      "most prob result Poland 1 - 1 Austria\n",
      "Both teams to score probability: 48.80%\n",
      "------------------------------------------\n",
      "Netherlands Wins: 41.93%\n",
      "Draw: 27.66%\n",
      "France Wins: 30.41%\n",
      "most prob result Netherlands 1 - 1 France\n",
      "Both teams to score probability: 47.65%\n",
      "------------------------------------------\n",
      "Slovakia Wins: 25.37%\n",
      "Draw: 29.40%\n",
      "Ukraine Wins: 45.23%\n",
      "most prob result Slovakia 0 - 1 Ukraine\n",
      "Both teams to score probability: 40.35%\n",
      "------------------------------------------\n",
      "Belgium Wins: 69.68%\n",
      "Draw: 21.32%\n",
      "Romania Wins: 9.00%\n",
      "most prob result Belgium 1 - 0 Romania\n",
      "Both teams to score probability: 30.95%\n",
      "------------------------------------------\n",
      "Georgia Wins: 25.16%\n",
      "Draw: 29.91%\n",
      "Czech Republic Wins: 44.93%\n",
      "most prob result Georgia 0 - 1 Czech Republic\n",
      "Both teams to score probability: 39.07%\n",
      "------------------------------------------\n",
      "Turkey Wins: 24.87%\n",
      "Draw: 29.23%\n",
      "Portugal Wins: 45.90%\n",
      "most prob result Turkey 0 - 1 Portugal\n",
      "Both teams to score probability: 40.39%\n",
      "------------------------------------------\n",
      "Germany Wins: 49.59%\n",
      "Draw: 25.33%\n",
      "Switzerland Wins: 25.08%\n",
      "most prob result Germany 1 - 1 Switzerland\n",
      "Both teams to score probability: 50.89%\n",
      "------------------------------------------\n",
      "Scotland Wins: 33.84%\n",
      "Draw: 28.82%\n",
      "Hungary Wins: 37.34%\n",
      "most prob result Scotland 1 - 1 Hungary\n",
      "Both teams to score probability: 45.27%\n",
      "------------------------------------------\n",
      "Albania Wins: 18.63%\n",
      "Draw: 27.47%\n",
      "Spain Wins: 53.91%\n",
      "most prob result Albania 0 - 1 Spain\n",
      "Both teams to score probability: 37.98%\n",
      "------------------------------------------\n",
      "Croatia Wins: 51.03%\n",
      "Draw: 25.50%\n",
      "Italy Wins: 23.47%\n",
      "most prob result Croatia 1 - 0 Italy\n",
      "Both teams to score probability: 48.78%\n",
      "------------------------------------------\n",
      "England Wins: 70.21%\n",
      "Draw: 18.75%\n",
      "Slovenia Wins: 11.04%\n",
      "most prob result England 2 - 0 Slovenia\n",
      "Both teams to score probability: 44.08%\n",
      "------------------------------------------\n",
      "Denmark Wins: 41.46%\n",
      "Draw: 28.14%\n",
      "Serbia Wins: 30.40%\n",
      "most prob result Denmark 1 - 1 Serbia\n",
      "Both teams to score probability: 46.31%\n",
      "------------------------------------------\n",
      "Netherlands Wins: 59.45%\n",
      "Draw: 22.25%\n",
      "Austria Wins: 18.29%\n",
      "most prob result Netherlands 1 - 0 Austria\n",
      "Both teams to score probability: 51.15%\n",
      "------------------------------------------\n",
      "France Wins: 70.65%\n",
      "Draw: 16.98%\n",
      "Poland Wins: 12.35%\n",
      "most prob result France 2 - 0 Poland\n",
      "Both teams to score probability: 54.80%\n",
      "------------------------------------------\n",
      "Slovakia Wins: 37.22%\n",
      "Draw: 27.74%\n",
      "Romania Wins: 35.04%\n",
      "most prob result Slovakia 1 - 1 Romania\n",
      "Both teams to score probability: 48.55%\n",
      "------------------------------------------\n",
      "Ukraine Wins: 17.71%\n",
      "Draw: 23.68%\n",
      "Belgium Wins: 58.61%\n",
      "most prob result Ukraine 0 - 1 Belgium\n",
      "Both teams to score probability: 45.87%\n",
      "------------------------------------------\n",
      "Georgia Wins: 7.17%\n",
      "Draw: 16.91%\n",
      "Portugal Wins: 75.91%\n",
      "most prob result Georgia 0 - 2 Portugal\n",
      "Both teams to score probability: 34.47%\n",
      "------------------------------------------\n",
      "Czech Republic Wins: 36.29%\n",
      "Draw: 29.40%\n",
      "Turkey Wins: 34.31%\n",
      "most prob result Czech Republic 1 - 1 Turkey\n",
      "Both teams to score probability: 43.73%\n",
      "------------------------------------------\n"
     ]
    }
   ],
   "source": [
    "from tqdm import tqdm\n",
    "\n",
    "for i, vals in group_phase.iterrows():\n",
    "    home = vals['home_team']\n",
    "    away = vals['away_team']\n",
    "    \n",
    "    # SIM 1 HOME x AWAY\n",
    "    h, a = find_team_features(home, away)\n",
    "\n",
    "    xg_h = home_md.predict([h])[0]\n",
    "    xg_a = away_md.predict([a])[0]\n",
    "\n",
    "    poisson_probs_h = poisson.pmf(np.arange(0, 10), xg_h)\n",
    "    poisson_probs_a = poisson.pmf(np.arange(0, 10), xg_a)\n",
    "\n",
    "    hw, draw, aw, g1, g2, both_score, over_1_5, under_1_5, over_2_5, under_2_5 = find_probs(poisson_probs_h, poisson_probs_a)\n",
    "    # hw -= 0.05\n",
    "    # draw +=0.1\n",
    "    # aw -= 0.05\n",
    "    \n",
    "    if max([hw, draw, aw]) == hw:\n",
    "        home_points=3\n",
    "        away_points=0\n",
    "    elif max([hw, draw, aw]) == aw:\n",
    "        home_points=0\n",
    "        away_points=3\n",
    "    else:\n",
    "        home_points=1\n",
    "        away_points=1\n",
    "    \n",
    "    grp = group_dict[vals['Group']]\n",
    "    \n",
    "    group_dict[vals['Group']][home] = [grp[home][0]+home_points, grp[home][1]+g1, grp[home][2]+g2]\n",
    "    group_dict[vals['Group']][away] = [grp[away][0]+away_points, grp[home][1]+g2, grp[home][2]+g1]\n",
    "\n",
    "    print(f\"{home} Wins: {hw:.2%}\")\n",
    "    print(f\"Draw: {draw:.2%}\")\n",
    "    print(f\"{away} Wins: {aw:.2%}\")\n",
    "    print(f\"most prob result {home} {g1} - {g2} {away}\")\n",
    "    print(f\"Both teams to score probability: {both_score:.2%}\")\n",
    "\n",
    "    \n",
    "    \n",
    "    print(\"------------------------------------------\")\n"
   ]
  },
  {
   "cell_type": "code",
   "execution_count": 94,
   "id": "99c45815",
   "metadata": {},
   "outputs": [],
   "source": [
    "group_dfs = []"
   ]
  },
  {
   "cell_type": "code",
   "execution_count": 95,
   "id": "be0b4526",
   "metadata": {},
   "outputs": [],
   "source": [
    "for g in group_dict.keys():\n",
    "    gdf = pd.DataFrame(group_dict[g]).T\n",
    "    \n",
    "    gdf.columns = [\"Points\", \"GF\", \"GA\"]\n",
    "    gdf[\"SG\"] = gdf[\"GF\"] - gdf[\"GA\"]\n",
    "    \n",
    "    gdf = gdf.sort_values([\"Points\", \"SG\", \"GF\", \"GA\"], ascending=False)\n",
    "    group_dfs.append(gdf)"
   ]
  },
  {
   "cell_type": "code",
   "execution_count": null,
   "id": "198a23b2",
   "metadata": {},
   "outputs": [],
   "source": []
  },
  {
   "cell_type": "code",
   "execution_count": 96,
   "id": "4d1a0105",
   "metadata": {},
   "outputs": [],
   "source": [
    "thirds = pd.DataFrame()\n",
    "for g in group_dfs:\n",
    "    thirds = pd.concat([thirds, g.head(3).tail(1)])\n",
    "\n",
    "thirds = thirds.sort_values([\"Points\", \"SG\", \"GF\", \"GA\"], ascending=False)"
   ]
  },
  {
   "cell_type": "code",
   "execution_count": 97,
   "id": "f712065f",
   "metadata": {},
   "outputs": [],
   "source": [
    "classified = thirds.head(4).index.values"
   ]
  },
  {
   "cell_type": "code",
   "execution_count": 98,
   "id": "37b08aab",
   "metadata": {},
   "outputs": [],
   "source": [
    "def style_clf(row, df, n):\n",
    "    if row.name in df.head(n).index.values:\n",
    "        return ['background-color: green'] * len(row)\n",
    "    else:\n",
    "        return [''] * len(row)"
   ]
  },
  {
   "cell_type": "code",
   "execution_count": 99,
   "id": "13c0fb89",
   "metadata": {},
   "outputs": [
    {
     "data": {
      "text/html": [
       "<style type=\"text/css\">\n",
       "#T_32412_row0_col0, #T_32412_row0_col1, #T_32412_row0_col2, #T_32412_row0_col3, #T_32412_row1_col0, #T_32412_row1_col1, #T_32412_row1_col2, #T_32412_row1_col3 {\n",
       "  background-color: green;\n",
       "}\n",
       "</style>\n",
       "<table id=\"T_32412_\">\n",
       "  <thead>\n",
       "    <tr>\n",
       "      <th class=\"blank level0\" >&nbsp;</th>\n",
       "      <th class=\"col_heading level0 col0\" >Points</th>\n",
       "      <th class=\"col_heading level0 col1\" >GF</th>\n",
       "      <th class=\"col_heading level0 col2\" >GA</th>\n",
       "      <th class=\"col_heading level0 col3\" >SG</th>\n",
       "    </tr>\n",
       "  </thead>\n",
       "  <tbody>\n",
       "    <tr>\n",
       "      <th id=\"T_32412_level0_row0\" class=\"row_heading level0 row0\" >Germany</th>\n",
       "      <td id=\"T_32412_row0_col0\" class=\"data row0 col0\" >9</td>\n",
       "      <td id=\"T_32412_row0_col1\" class=\"data row0 col1\" >4</td>\n",
       "      <td id=\"T_32412_row0_col2\" class=\"data row0 col2\" >2</td>\n",
       "      <td id=\"T_32412_row0_col3\" class=\"data row0 col3\" >2</td>\n",
       "    </tr>\n",
       "    <tr>\n",
       "      <th id=\"T_32412_level0_row1\" class=\"row_heading level0 row1\" >Switzerland</th>\n",
       "      <td id=\"T_32412_row1_col0\" class=\"data row1 col0\" >2</td>\n",
       "      <td id=\"T_32412_row1_col1\" class=\"data row1 col1\" >5</td>\n",
       "      <td id=\"T_32412_row1_col2\" class=\"data row1 col2\" >3</td>\n",
       "      <td id=\"T_32412_row1_col3\" class=\"data row1 col3\" >2</td>\n",
       "    </tr>\n",
       "    <tr>\n",
       "      <th id=\"T_32412_level0_row2\" class=\"row_heading level0 row2\" >Hungary</th>\n",
       "      <td id=\"T_32412_row2_col0\" class=\"data row2 col0\" >2</td>\n",
       "      <td id=\"T_32412_row2_col1\" class=\"data row2 col1\" >5</td>\n",
       "      <td id=\"T_32412_row2_col2\" class=\"data row2 col2\" >5</td>\n",
       "      <td id=\"T_32412_row2_col3\" class=\"data row2 col3\" >0</td>\n",
       "    </tr>\n",
       "    <tr>\n",
       "      <th id=\"T_32412_level0_row3\" class=\"row_heading level0 row3\" >Scotland</th>\n",
       "      <td id=\"T_32412_row3_col0\" class=\"data row3 col0\" >2</td>\n",
       "      <td id=\"T_32412_row3_col1\" class=\"data row3 col1\" >4</td>\n",
       "      <td id=\"T_32412_row3_col2\" class=\"data row3 col2\" >4</td>\n",
       "      <td id=\"T_32412_row3_col3\" class=\"data row3 col3\" >0</td>\n",
       "    </tr>\n",
       "  </tbody>\n",
       "</table>\n"
      ],
      "text/plain": [
       "<pandas.io.formats.style.Styler at 0x7fb565d30048>"
      ]
     },
     "metadata": {},
     "output_type": "display_data"
    },
    {
     "data": {
      "text/html": [
       "<style type=\"text/css\">\n",
       "#T_b4125_row0_col0, #T_b4125_row0_col1, #T_b4125_row0_col2, #T_b4125_row0_col3, #T_b4125_row1_col0, #T_b4125_row1_col1, #T_b4125_row1_col2, #T_b4125_row1_col3, #T_b4125_row2_col0, #T_b4125_row2_col1, #T_b4125_row2_col2, #T_b4125_row2_col3 {\n",
       "  background-color: green;\n",
       "}\n",
       "</style>\n",
       "<table id=\"T_b4125_\">\n",
       "  <thead>\n",
       "    <tr>\n",
       "      <th class=\"blank level0\" >&nbsp;</th>\n",
       "      <th class=\"col_heading level0 col0\" >Points</th>\n",
       "      <th class=\"col_heading level0 col1\" >GF</th>\n",
       "      <th class=\"col_heading level0 col2\" >GA</th>\n",
       "      <th class=\"col_heading level0 col3\" >SG</th>\n",
       "    </tr>\n",
       "  </thead>\n",
       "  <tbody>\n",
       "    <tr>\n",
       "      <th id=\"T_b4125_level0_row0\" class=\"row_heading level0 row0\" >Spain</th>\n",
       "      <td id=\"T_b4125_row0_col0\" class=\"data row0 col0\" >7</td>\n",
       "      <td id=\"T_b4125_row0_col1\" class=\"data row0 col1\" >3</td>\n",
       "      <td id=\"T_b4125_row0_col2\" class=\"data row0 col2\" >3</td>\n",
       "      <td id=\"T_b4125_row0_col3\" class=\"data row0 col3\" >0</td>\n",
       "    </tr>\n",
       "    <tr>\n",
       "      <th id=\"T_b4125_level0_row1\" class=\"row_heading level0 row1\" >Croatia</th>\n",
       "      <td id=\"T_b4125_row1_col0\" class=\"data row1 col0\" >6</td>\n",
       "      <td id=\"T_b4125_row1_col1\" class=\"data row1 col1\" >3</td>\n",
       "      <td id=\"T_b4125_row1_col2\" class=\"data row1 col2\" >1</td>\n",
       "      <td id=\"T_b4125_row1_col3\" class=\"data row1 col3\" >2</td>\n",
       "    </tr>\n",
       "    <tr>\n",
       "      <th id=\"T_b4125_level0_row2\" class=\"row_heading level0 row2\" >Italy</th>\n",
       "      <td id=\"T_b4125_row2_col0\" class=\"data row2 col0\" >4</td>\n",
       "      <td id=\"T_b4125_row2_col1\" class=\"data row2 col1\" >3</td>\n",
       "      <td id=\"T_b4125_row2_col2\" class=\"data row2 col2\" >2</td>\n",
       "      <td id=\"T_b4125_row2_col3\" class=\"data row2 col3\" >1</td>\n",
       "    </tr>\n",
       "    <tr>\n",
       "      <th id=\"T_b4125_level0_row3\" class=\"row_heading level0 row3\" >Albania</th>\n",
       "      <td id=\"T_b4125_row3_col0\" class=\"data row3 col0\" >0</td>\n",
       "      <td id=\"T_b4125_row3_col1\" class=\"data row3 col1\" >2</td>\n",
       "      <td id=\"T_b4125_row3_col2\" class=\"data row3 col2\" >3</td>\n",
       "      <td id=\"T_b4125_row3_col3\" class=\"data row3 col3\" >-1</td>\n",
       "    </tr>\n",
       "  </tbody>\n",
       "</table>\n"
      ],
      "text/plain": [
       "<pandas.io.formats.style.Styler at 0x7fb565d30da0>"
      ]
     },
     "metadata": {},
     "output_type": "display_data"
    },
    {
     "data": {
      "text/html": [
       "<style type=\"text/css\">\n",
       "#T_a9de6_row0_col0, #T_a9de6_row0_col1, #T_a9de6_row0_col2, #T_a9de6_row0_col3, #T_a9de6_row1_col0, #T_a9de6_row1_col1, #T_a9de6_row1_col2, #T_a9de6_row1_col3, #T_a9de6_row2_col0, #T_a9de6_row2_col1, #T_a9de6_row2_col2, #T_a9de6_row2_col3 {\n",
       "  background-color: green;\n",
       "}\n",
       "</style>\n",
       "<table id=\"T_a9de6_\">\n",
       "  <thead>\n",
       "    <tr>\n",
       "      <th class=\"blank level0\" >&nbsp;</th>\n",
       "      <th class=\"col_heading level0 col0\" >Points</th>\n",
       "      <th class=\"col_heading level0 col1\" >GF</th>\n",
       "      <th class=\"col_heading level0 col2\" >GA</th>\n",
       "      <th class=\"col_heading level0 col3\" >SG</th>\n",
       "    </tr>\n",
       "  </thead>\n",
       "  <tbody>\n",
       "    <tr>\n",
       "      <th id=\"T_a9de6_level0_row0\" class=\"row_heading level0 row0\" >England</th>\n",
       "      <td id=\"T_a9de6_row0_col0\" class=\"data row0 col0\" >9</td>\n",
       "      <td id=\"T_a9de6_row0_col1\" class=\"data row0 col1\" >4</td>\n",
       "      <td id=\"T_a9de6_row0_col2\" class=\"data row0 col2\" >2</td>\n",
       "      <td id=\"T_a9de6_row0_col3\" class=\"data row0 col3\" >2</td>\n",
       "    </tr>\n",
       "    <tr>\n",
       "      <th id=\"T_a9de6_level0_row1\" class=\"row_heading level0 row1\" >Serbia</th>\n",
       "      <td id=\"T_a9de6_row1_col0\" class=\"data row1 col0\" >4</td>\n",
       "      <td id=\"T_a9de6_row1_col1\" class=\"data row1 col1\" >3</td>\n",
       "      <td id=\"T_a9de6_row1_col2\" class=\"data row1 col2\" >4</td>\n",
       "      <td id=\"T_a9de6_row1_col3\" class=\"data row1 col3\" >-1</td>\n",
       "    </tr>\n",
       "    <tr>\n",
       "      <th id=\"T_a9de6_level0_row2\" class=\"row_heading level0 row2\" >Denmark</th>\n",
       "      <td id=\"T_a9de6_row2_col0\" class=\"data row2 col0\" >4</td>\n",
       "      <td id=\"T_a9de6_row2_col1\" class=\"data row2 col1\" >2</td>\n",
       "      <td id=\"T_a9de6_row2_col2\" class=\"data row2 col2\" >3</td>\n",
       "      <td id=\"T_a9de6_row2_col3\" class=\"data row2 col3\" >-1</td>\n",
       "    </tr>\n",
       "    <tr>\n",
       "      <th id=\"T_a9de6_level0_row3\" class=\"row_heading level0 row3\" >Slovenia</th>\n",
       "      <td id=\"T_a9de6_row3_col0\" class=\"data row3 col0\" >0</td>\n",
       "      <td id=\"T_a9de6_row3_col1\" class=\"data row3 col1\" >4</td>\n",
       "      <td id=\"T_a9de6_row3_col2\" class=\"data row3 col2\" >4</td>\n",
       "      <td id=\"T_a9de6_row3_col3\" class=\"data row3 col3\" >0</td>\n",
       "    </tr>\n",
       "  </tbody>\n",
       "</table>\n"
      ],
      "text/plain": [
       "<pandas.io.formats.style.Styler at 0x7fb565d30048>"
      ]
     },
     "metadata": {},
     "output_type": "display_data"
    },
    {
     "data": {
      "text/html": [
       "<style type=\"text/css\">\n",
       "#T_669a9_row0_col0, #T_669a9_row0_col1, #T_669a9_row0_col2, #T_669a9_row0_col3, #T_669a9_row1_col0, #T_669a9_row1_col1, #T_669a9_row1_col2, #T_669a9_row1_col3, #T_669a9_row2_col0, #T_669a9_row2_col1, #T_669a9_row2_col2, #T_669a9_row2_col3 {\n",
       "  background-color: green;\n",
       "}\n",
       "</style>\n",
       "<table id=\"T_669a9_\">\n",
       "  <thead>\n",
       "    <tr>\n",
       "      <th class=\"blank level0\" >&nbsp;</th>\n",
       "      <th class=\"col_heading level0 col0\" >Points</th>\n",
       "      <th class=\"col_heading level0 col1\" >GF</th>\n",
       "      <th class=\"col_heading level0 col2\" >GA</th>\n",
       "      <th class=\"col_heading level0 col3\" >SG</th>\n",
       "    </tr>\n",
       "  </thead>\n",
       "  <tbody>\n",
       "    <tr>\n",
       "      <th id=\"T_669a9_level0_row0\" class=\"row_heading level0 row0\" >France</th>\n",
       "      <td id=\"T_669a9_row0_col0\" class=\"data row0 col0\" >7</td>\n",
       "      <td id=\"T_669a9_row0_col1\" class=\"data row0 col1\" >5</td>\n",
       "      <td id=\"T_669a9_row0_col2\" class=\"data row0 col2\" >3</td>\n",
       "      <td id=\"T_669a9_row0_col3\" class=\"data row0 col3\" >2</td>\n",
       "    </tr>\n",
       "    <tr>\n",
       "      <th id=\"T_669a9_level0_row1\" class=\"row_heading level0 row1\" >Netherlands</th>\n",
       "      <td id=\"T_669a9_row1_col0\" class=\"data row1 col0\" >7</td>\n",
       "      <td id=\"T_669a9_row1_col1\" class=\"data row1 col1\" >3</td>\n",
       "      <td id=\"T_669a9_row1_col2\" class=\"data row1 col2\" >2</td>\n",
       "      <td id=\"T_669a9_row1_col3\" class=\"data row1 col3\" >1</td>\n",
       "    </tr>\n",
       "    <tr>\n",
       "      <th id=\"T_669a9_level0_row2\" class=\"row_heading level0 row2\" >Poland</th>\n",
       "      <td id=\"T_669a9_row2_col0\" class=\"data row2 col0\" >3</td>\n",
       "      <td id=\"T_669a9_row2_col1\" class=\"data row2 col1\" >5</td>\n",
       "      <td id=\"T_669a9_row2_col2\" class=\"data row2 col2\" >5</td>\n",
       "      <td id=\"T_669a9_row2_col3\" class=\"data row2 col3\" >0</td>\n",
       "    </tr>\n",
       "    <tr>\n",
       "      <th id=\"T_669a9_level0_row3\" class=\"row_heading level0 row3\" >Austria</th>\n",
       "      <td id=\"T_669a9_row3_col0\" class=\"data row3 col0\" >0</td>\n",
       "      <td id=\"T_669a9_row3_col1\" class=\"data row3 col1\" >3</td>\n",
       "      <td id=\"T_669a9_row3_col2\" class=\"data row3 col2\" >3</td>\n",
       "      <td id=\"T_669a9_row3_col3\" class=\"data row3 col3\" >0</td>\n",
       "    </tr>\n",
       "  </tbody>\n",
       "</table>\n"
      ],
      "text/plain": [
       "<pandas.io.formats.style.Styler at 0x7fb565d30da0>"
      ]
     },
     "metadata": {},
     "output_type": "display_data"
    },
    {
     "data": {
      "text/html": [
       "<style type=\"text/css\">\n",
       "#T_0a5cf_row0_col0, #T_0a5cf_row0_col1, #T_0a5cf_row0_col2, #T_0a5cf_row0_col3, #T_0a5cf_row1_col0, #T_0a5cf_row1_col1, #T_0a5cf_row1_col2, #T_0a5cf_row1_col3 {\n",
       "  background-color: green;\n",
       "}\n",
       "</style>\n",
       "<table id=\"T_0a5cf_\">\n",
       "  <thead>\n",
       "    <tr>\n",
       "      <th class=\"blank level0\" >&nbsp;</th>\n",
       "      <th class=\"col_heading level0 col0\" >Points</th>\n",
       "      <th class=\"col_heading level0 col1\" >GF</th>\n",
       "      <th class=\"col_heading level0 col2\" >GA</th>\n",
       "      <th class=\"col_heading level0 col3\" >SG</th>\n",
       "    </tr>\n",
       "  </thead>\n",
       "  <tbody>\n",
       "    <tr>\n",
       "      <th id=\"T_0a5cf_level0_row0\" class=\"row_heading level0 row0\" >Belgium</th>\n",
       "      <td id=\"T_0a5cf_row0_col0\" class=\"data row0 col0\" >9</td>\n",
       "      <td id=\"T_0a5cf_row0_col1\" class=\"data row0 col1\" >3</td>\n",
       "      <td id=\"T_0a5cf_row0_col2\" class=\"data row0 col2\" >3</td>\n",
       "      <td id=\"T_0a5cf_row0_col3\" class=\"data row0 col3\" >0</td>\n",
       "    </tr>\n",
       "    <tr>\n",
       "      <th id=\"T_0a5cf_level0_row1\" class=\"row_heading level0 row1\" >Ukraine</th>\n",
       "      <td id=\"T_0a5cf_row1_col0\" class=\"data row1 col0\" >4</td>\n",
       "      <td id=\"T_0a5cf_row1_col1\" class=\"data row1 col1\" >2</td>\n",
       "      <td id=\"T_0a5cf_row1_col2\" class=\"data row1 col2\" >3</td>\n",
       "      <td id=\"T_0a5cf_row1_col3\" class=\"data row1 col3\" >-1</td>\n",
       "    </tr>\n",
       "    <tr>\n",
       "      <th id=\"T_0a5cf_level0_row2\" class=\"row_heading level0 row2\" >Romania</th>\n",
       "      <td id=\"T_0a5cf_row2_col0\" class=\"data row2 col0\" >2</td>\n",
       "      <td id=\"T_0a5cf_row2_col1\" class=\"data row2 col1\" >3</td>\n",
       "      <td id=\"T_0a5cf_row2_col2\" class=\"data row2 col2\" >4</td>\n",
       "      <td id=\"T_0a5cf_row2_col3\" class=\"data row2 col3\" >-1</td>\n",
       "    </tr>\n",
       "    <tr>\n",
       "      <th id=\"T_0a5cf_level0_row3\" class=\"row_heading level0 row3\" >Slovakia</th>\n",
       "      <td id=\"T_0a5cf_row3_col0\" class=\"data row3 col0\" >1</td>\n",
       "      <td id=\"T_0a5cf_row3_col1\" class=\"data row3 col1\" >2</td>\n",
       "      <td id=\"T_0a5cf_row3_col2\" class=\"data row3 col2\" >3</td>\n",
       "      <td id=\"T_0a5cf_row3_col3\" class=\"data row3 col3\" >-1</td>\n",
       "    </tr>\n",
       "  </tbody>\n",
       "</table>\n"
      ],
      "text/plain": [
       "<pandas.io.formats.style.Styler at 0x7fb55f945080>"
      ]
     },
     "metadata": {},
     "output_type": "display_data"
    },
    {
     "data": {
      "text/html": [
       "<style type=\"text/css\">\n",
       "#T_061b5_row0_col0, #T_061b5_row0_col1, #T_061b5_row0_col2, #T_061b5_row0_col3, #T_061b5_row1_col0, #T_061b5_row1_col1, #T_061b5_row1_col2, #T_061b5_row1_col3, #T_061b5_row2_col0, #T_061b5_row2_col1, #T_061b5_row2_col2, #T_061b5_row2_col3 {\n",
       "  background-color: green;\n",
       "}\n",
       "</style>\n",
       "<table id=\"T_061b5_\">\n",
       "  <thead>\n",
       "    <tr>\n",
       "      <th class=\"blank level0\" >&nbsp;</th>\n",
       "      <th class=\"col_heading level0 col0\" >Points</th>\n",
       "      <th class=\"col_heading level0 col1\" >GF</th>\n",
       "      <th class=\"col_heading level0 col2\" >GA</th>\n",
       "      <th class=\"col_heading level0 col3\" >SG</th>\n",
       "    </tr>\n",
       "  </thead>\n",
       "  <tbody>\n",
       "    <tr>\n",
       "      <th id=\"T_061b5_level0_row0\" class=\"row_heading level0 row0\" >Portugal</th>\n",
       "      <td id=\"T_061b5_row0_col0\" class=\"data row0 col0\" >9</td>\n",
       "      <td id=\"T_061b5_row0_col1\" class=\"data row0 col1\" >3</td>\n",
       "      <td id=\"T_061b5_row0_col2\" class=\"data row0 col2\" >4</td>\n",
       "      <td id=\"T_061b5_row0_col3\" class=\"data row0 col3\" >-1</td>\n",
       "    </tr>\n",
       "    <tr>\n",
       "      <th id=\"T_061b5_level0_row1\" class=\"row_heading level0 row1\" >Turkey</th>\n",
       "      <td id=\"T_061b5_row1_col0\" class=\"data row1 col0\" >4</td>\n",
       "      <td id=\"T_061b5_row1_col1\" class=\"data row1 col1\" >4</td>\n",
       "      <td id=\"T_061b5_row1_col2\" class=\"data row1 col2\" >4</td>\n",
       "      <td id=\"T_061b5_row1_col3\" class=\"data row1 col3\" >0</td>\n",
       "    </tr>\n",
       "    <tr>\n",
       "      <th id=\"T_061b5_level0_row2\" class=\"row_heading level0 row2\" >Czech Republic</th>\n",
       "      <td id=\"T_061b5_row2_col0\" class=\"data row2 col0\" >4</td>\n",
       "      <td id=\"T_061b5_row2_col1\" class=\"data row2 col1\" >3</td>\n",
       "      <td id=\"T_061b5_row2_col2\" class=\"data row2 col2\" >3</td>\n",
       "      <td id=\"T_061b5_row2_col3\" class=\"data row2 col3\" >0</td>\n",
       "    </tr>\n",
       "    <tr>\n",
       "      <th id=\"T_061b5_level0_row3\" class=\"row_heading level0 row3\" >Georgia</th>\n",
       "      <td id=\"T_061b5_row3_col0\" class=\"data row3 col0\" >0</td>\n",
       "      <td id=\"T_061b5_row3_col1\" class=\"data row3 col1\" >1</td>\n",
       "      <td id=\"T_061b5_row3_col2\" class=\"data row3 col2\" >4</td>\n",
       "      <td id=\"T_061b5_row3_col3\" class=\"data row3 col3\" >-3</td>\n",
       "    </tr>\n",
       "  </tbody>\n",
       "</table>\n"
      ],
      "text/plain": [
       "<pandas.io.formats.style.Styler at 0x7fb55f9450b8>"
      ]
     },
     "metadata": {},
     "output_type": "display_data"
    }
   ],
   "source": [
    "for g in group_dfs:\n",
    "    if g.index.values[2] in classified:\n",
    "        display(g.style.apply(lambda x: style_clf(x, g, 3), axis=1))\n",
    "    else:\n",
    "        display(g.style.apply(lambda x: style_clf(x, g, 2), axis=1))"
   ]
  },
  {
   "cell_type": "code",
   "execution_count": 100,
   "id": "70f96336",
   "metadata": {},
   "outputs": [
    {
     "data": {
      "text/html": [
       "<style type=\"text/css\">\n",
       "#T_83715_row0_col0, #T_83715_row0_col1, #T_83715_row0_col2, #T_83715_row0_col3, #T_83715_row1_col0, #T_83715_row1_col1, #T_83715_row1_col2, #T_83715_row1_col3, #T_83715_row2_col0, #T_83715_row2_col1, #T_83715_row2_col2, #T_83715_row2_col3, #T_83715_row3_col0, #T_83715_row3_col1, #T_83715_row3_col2, #T_83715_row3_col3 {\n",
       "  background-color: green;\n",
       "}\n",
       "</style>\n",
       "<table id=\"T_83715_\">\n",
       "  <thead>\n",
       "    <tr>\n",
       "      <th class=\"blank level0\" >&nbsp;</th>\n",
       "      <th class=\"col_heading level0 col0\" >Points</th>\n",
       "      <th class=\"col_heading level0 col1\" >GF</th>\n",
       "      <th class=\"col_heading level0 col2\" >GA</th>\n",
       "      <th class=\"col_heading level0 col3\" >SG</th>\n",
       "    </tr>\n",
       "  </thead>\n",
       "  <tbody>\n",
       "    <tr>\n",
       "      <th id=\"T_83715_level0_row0\" class=\"row_heading level0 row0\" >Italy</th>\n",
       "      <td id=\"T_83715_row0_col0\" class=\"data row0 col0\" >4</td>\n",
       "      <td id=\"T_83715_row0_col1\" class=\"data row0 col1\" >3</td>\n",
       "      <td id=\"T_83715_row0_col2\" class=\"data row0 col2\" >2</td>\n",
       "      <td id=\"T_83715_row0_col3\" class=\"data row0 col3\" >1</td>\n",
       "    </tr>\n",
       "    <tr>\n",
       "      <th id=\"T_83715_level0_row1\" class=\"row_heading level0 row1\" >Czech Republic</th>\n",
       "      <td id=\"T_83715_row1_col0\" class=\"data row1 col0\" >4</td>\n",
       "      <td id=\"T_83715_row1_col1\" class=\"data row1 col1\" >3</td>\n",
       "      <td id=\"T_83715_row1_col2\" class=\"data row1 col2\" >3</td>\n",
       "      <td id=\"T_83715_row1_col3\" class=\"data row1 col3\" >0</td>\n",
       "    </tr>\n",
       "    <tr>\n",
       "      <th id=\"T_83715_level0_row2\" class=\"row_heading level0 row2\" >Denmark</th>\n",
       "      <td id=\"T_83715_row2_col0\" class=\"data row2 col0\" >4</td>\n",
       "      <td id=\"T_83715_row2_col1\" class=\"data row2 col1\" >2</td>\n",
       "      <td id=\"T_83715_row2_col2\" class=\"data row2 col2\" >3</td>\n",
       "      <td id=\"T_83715_row2_col3\" class=\"data row2 col3\" >-1</td>\n",
       "    </tr>\n",
       "    <tr>\n",
       "      <th id=\"T_83715_level0_row3\" class=\"row_heading level0 row3\" >Poland</th>\n",
       "      <td id=\"T_83715_row3_col0\" class=\"data row3 col0\" >3</td>\n",
       "      <td id=\"T_83715_row3_col1\" class=\"data row3 col1\" >5</td>\n",
       "      <td id=\"T_83715_row3_col2\" class=\"data row3 col2\" >5</td>\n",
       "      <td id=\"T_83715_row3_col3\" class=\"data row3 col3\" >0</td>\n",
       "    </tr>\n",
       "    <tr>\n",
       "      <th id=\"T_83715_level0_row4\" class=\"row_heading level0 row4\" >Hungary</th>\n",
       "      <td id=\"T_83715_row4_col0\" class=\"data row4 col0\" >2</td>\n",
       "      <td id=\"T_83715_row4_col1\" class=\"data row4 col1\" >5</td>\n",
       "      <td id=\"T_83715_row4_col2\" class=\"data row4 col2\" >5</td>\n",
       "      <td id=\"T_83715_row4_col3\" class=\"data row4 col3\" >0</td>\n",
       "    </tr>\n",
       "    <tr>\n",
       "      <th id=\"T_83715_level0_row5\" class=\"row_heading level0 row5\" >Romania</th>\n",
       "      <td id=\"T_83715_row5_col0\" class=\"data row5 col0\" >2</td>\n",
       "      <td id=\"T_83715_row5_col1\" class=\"data row5 col1\" >3</td>\n",
       "      <td id=\"T_83715_row5_col2\" class=\"data row5 col2\" >4</td>\n",
       "      <td id=\"T_83715_row5_col3\" class=\"data row5 col3\" >-1</td>\n",
       "    </tr>\n",
       "  </tbody>\n",
       "</table>\n"
      ],
      "text/plain": [
       "<pandas.io.formats.style.Styler at 0x7fb5666da6d8>"
      ]
     },
     "execution_count": 100,
     "metadata": {},
     "output_type": "execute_result"
    }
   ],
   "source": [
    "thirds.style.apply(lambda x: style_clf(x, thirds, 4), axis=1)"
   ]
  },
  {
   "cell_type": "code",
   "execution_count": null,
   "id": "51fd8345",
   "metadata": {},
   "outputs": [],
   "source": []
  },
  {
   "cell_type": "code",
   "execution_count": 101,
   "id": "ee225e3d",
   "metadata": {},
   "outputs": [],
   "source": [
    "combs = pd.read_html(\"https://en.wikipedia.org/wiki/UEFA_Euro_2024_knockout_stage\")[0]"
   ]
  },
  {
   "cell_type": "code",
   "execution_count": 102,
   "id": "cf63e6ad",
   "metadata": {},
   "outputs": [],
   "source": [
    "combs = combs.dropna(how='all')\n",
    "combs.columns = ['A', 'B', 'C', 'D', 'E', 'F', '1B', '1C', '1E', '1F', 'drop']\n",
    "combs.drop('drop', axis=1, inplace=True)"
   ]
  },
  {
   "cell_type": "code",
   "execution_count": 103,
   "id": "c72129af",
   "metadata": {},
   "outputs": [],
   "source": [
    "third_comb = ['B', 'C', 'D', 'F']"
   ]
  },
  {
   "cell_type": "code",
   "execution_count": 104,
   "id": "65571501",
   "metadata": {},
   "outputs": [],
   "source": [
    "third_seconds = combs.dropna(subset=third_comb).values[0][6:]"
   ]
  },
  {
   "cell_type": "code",
   "execution_count": 105,
   "id": "58b450a1",
   "metadata": {},
   "outputs": [],
   "source": [
    "fixed_seconds = ['2C', '2E', '2F', '2B']"
   ]
  },
  {
   "cell_type": "code",
   "execution_count": null,
   "id": "ad05fb7b",
   "metadata": {},
   "outputs": [],
   "source": []
  },
  {
   "cell_type": "code",
   "execution_count": null,
   "id": "bf965699",
   "metadata": {},
   "outputs": [],
   "source": []
  },
  {
   "cell_type": "code",
   "execution_count": 106,
   "id": "22707772",
   "metadata": {},
   "outputs": [],
   "source": [
    "seconds = []\n",
    "for i in range(0, 8):\n",
    "    if i%2 == 0:\n",
    "        seconds.append(third_seconds[i//2])\n",
    "    else:\n",
    "        seconds.append(fixed_seconds[i//2])"
   ]
  },
  {
   "cell_type": "code",
   "execution_count": 107,
   "id": "b896efe6",
   "metadata": {},
   "outputs": [],
   "source": [
    "firsts = ['1B', '1A', '1F', '2D', '1E', '1D', '1C', '2A']"
   ]
  },
  {
   "cell_type": "code",
   "execution_count": 108,
   "id": "0c50ddcc",
   "metadata": {},
   "outputs": [
    {
     "data": {
      "text/plain": [
       "['3F', '2C', '3D', '2E', '3C', '2F', '3B', '2B']"
      ]
     },
     "execution_count": 108,
     "metadata": {},
     "output_type": "execute_result"
    }
   ],
   "source": [
    "seconds"
   ]
  },
  {
   "cell_type": "code",
   "execution_count": 109,
   "id": "b4e72706",
   "metadata": {},
   "outputs": [],
   "source": [
    "def letter_to_number(letter):\n",
    "    letter = letter.lower()  # Convert to lowercase to handle both cases\n",
    "    return ord(letter) - ord('a')"
   ]
  },
  {
   "cell_type": "code",
   "execution_count": 110,
   "id": "bd77312f",
   "metadata": {},
   "outputs": [],
   "source": [
    "duels = [] \n",
    "for f, s in zip(firsts, seconds):\n",
    "    pos, grp = int(f[0]), letter_to_number(f[1])\n",
    "    first = group_dfs[grp].head(pos).tail(1).index.values[0]\n",
    "    \n",
    "    pos, grp = int(s[0]), letter_to_number(s[1])\n",
    "    second = group_dfs[grp].head(pos).tail(1).index.values[0]\n",
    "    \n",
    "    duels.append([first, second])"
   ]
  },
  {
   "cell_type": "code",
   "execution_count": 111,
   "id": "3cbd0359",
   "metadata": {},
   "outputs": [],
   "source": [
    "playoffs = {\"Round of 16\": [], \"Quarter-Final\": [], \"Semi-Final\": [], \"Final\": []}"
   ]
  },
  {
   "cell_type": "code",
   "execution_count": 112,
   "id": "4a0c9b97",
   "metadata": {},
   "outputs": [],
   "source": [
    "#playoffs['Round of 16'] = duels"
   ]
  },
  {
   "cell_type": "code",
   "execution_count": null,
   "id": "835dbabf",
   "metadata": {},
   "outputs": [],
   "source": []
  },
  {
   "cell_type": "code",
   "execution_count": null,
   "id": "486d718e",
   "metadata": {},
   "outputs": [],
   "source": []
  },
  {
   "cell_type": "code",
   "execution_count": 113,
   "id": "8fe87bb2",
   "metadata": {},
   "outputs": [],
   "source": [
    "def sim_game(t1, t2):\n",
    "    h, a = find_team_features(t1, t2)\n",
    "\n",
    "    xg_h = home_md.predict([h])[0]\n",
    "    xg_a = away_md.predict([a])[0]\n",
    "\n",
    "    poisson_probs_h = poisson.pmf(np.arange(0, 10), xg_h)\n",
    "    poisson_probs_a = poisson.pmf(np.arange(0, 10), xg_a)\n",
    "\n",
    "    hw, draw, aw, g1, g2 = find_probs(poisson_probs_h, poisson_probs_a)\n",
    "    \n",
    "    return hw, draw, aw"
   ]
  },
  {
   "cell_type": "code",
   "execution_count": 114,
   "id": "fcd07bc3",
   "metadata": {},
   "outputs": [],
   "source": [
    "#sim_game(t2, t1)"
   ]
  },
  {
   "cell_type": "code",
   "execution_count": null,
   "id": "862bbaee",
   "metadata": {},
   "outputs": [],
   "source": []
  },
  {
   "cell_type": "code",
   "execution_count": null,
   "id": "69e58b67",
   "metadata": {},
   "outputs": [],
   "source": []
  },
  {
   "cell_type": "code",
   "execution_count": 115,
   "id": "9c6f226c",
   "metadata": {},
   "outputs": [
    {
     "name": "stdout",
     "output_type": "stream",
     "text": [
      "Spain Wins: 63.02%\n",
      "Draw: 22.15%\n",
      "Czech Republic Wins: 14.83%\n",
      "------------------------------------------\n",
      "Germany Wins: 40.90%\n",
      "Draw: 28.64%\n",
      "Serbia Wins: 30.45%\n",
      "------------------------------------------\n",
      "Portugal Wins: 61.74%\n",
      "Draw: 22.40%\n",
      "Poland Wins: 15.86%\n",
      "------------------------------------------\n",
      "Netherlands Wins: 54.14%\n",
      "Draw: 24.94%\n",
      "Ukraine Wins: 20.92%\n",
      "------------------------------------------\n",
      "Belgium Wins: 53.13%\n",
      "Draw: 24.96%\n",
      "Denmark Wins: 21.91%\n",
      "------------------------------------------\n",
      "France Wins: 60.67%\n",
      "Draw: 24.29%\n",
      "Turkey Wins: 15.04%\n",
      "------------------------------------------\n",
      "England Wins: 46.93%\n",
      "Draw: 24.23%\n",
      "Italy Wins: 28.84%\n",
      "------------------------------------------\n",
      "Switzerland Wins: 31.71%\n",
      "Draw: 25.82%\n",
      "Croatia Wins: 42.47%\n",
      "------------------------------------------\n",
      "Spain Wins: 37.85%\n",
      "Draw: 24.55%\n",
      "Germany Wins: 37.59%\n",
      "------------------------------------------\n",
      "Portugal Wins: 41.44%\n",
      "Draw: 26.32%\n",
      "Netherlands Wins: 32.24%\n",
      "------------------------------------------\n"
     ]
    },
    {
     "name": "stdout",
     "output_type": "stream",
     "text": [
      "Belgium Wins: 29.67%\n",
      "Draw: 27.13%\n",
      "France Wins: 43.20%\n",
      "------------------------------------------\n",
      "England Wins: 48.84%\n",
      "Draw: 25.37%\n",
      "Croatia Wins: 25.79%\n",
      "------------------------------------------\n",
      "Spain Wins: 40.83%\n",
      "Draw: 26.27%\n",
      "Portugal Wins: 32.90%\n",
      "------------------------------------------\n",
      "France Wins: 32.30%\n",
      "Draw: 26.15%\n",
      "England Wins: 41.55%\n",
      "------------------------------------------\n",
      "Spain Wins: 32.51%\n",
      "Draw: 24.29%\n",
      "England Wins: 43.19%\n",
      "------------------------------------------\n"
     ]
    }
   ],
   "source": [
    "for phase in playoffs.keys():\n",
    "    playoffs[phase] = duels\n",
    "    next_phase = []\n",
    "    for i in range(len(playoffs[phase])):\n",
    "        game = playoffs[phase][i]\n",
    "        t1, t2 = game[0], game[1]\n",
    "        \n",
    "        h1, d1, a1 = sim_game(t1, t2)\n",
    "        a2, d2, h2 = sim_game(t2, t1)\n",
    "        \n",
    "        hw = (h1+h2)/2\n",
    "        draw = (d1+d2)/2\n",
    "        aw = (a1+a2)/2\n",
    "        \n",
    "        if max([hw, aw]) == hw:\n",
    "            passed = t1\n",
    "        else:\n",
    "            passed = t2\n",
    "        \n",
    "        print(f\"{t1} Wins: {hw:.2%}\")\n",
    "        print(f\"Draw: {draw:.2%}\")\n",
    "        print(f\"{t2} Wins: {aw:.2%}\")\n",
    "        #print(f\"most prob result {t1} {g1} - {g2} {t2}\")\n",
    "    \n",
    "        playoffs[phase][i].append([hw, aw])\n",
    "\n",
    "        print(\"------------------------------------------\")\n",
    "        \n",
    "        if i%2 == 0:\n",
    "            next_phase.append([passed])\n",
    "        else:\n",
    "            next_phase[i//2].append(passed)\n",
    "    duels = next_phase"
   ]
  },
  {
   "cell_type": "code",
   "execution_count": 116,
   "id": "99124229",
   "metadata": {},
   "outputs": [
    {
     "data": {
      "text/plain": [
       "{'Round of 16': [['Spain',\n",
       "   'Czech Republic',\n",
       "   [0.6301584981215173, 0.1482794407100086]],\n",
       "  ['Germany', 'Serbia', [0.40903698397172517, 0.30450896560326296]],\n",
       "  ['Portugal', 'Poland', [0.6173545032488919, 0.1585889352466415]],\n",
       "  ['Netherlands', 'Ukraine', [0.5413722564991101, 0.20917437332634736]],\n",
       "  ['Belgium', 'Denmark', [0.5312950414264517, 0.21905907657080043]],\n",
       "  ['France', 'Turkey', [0.6067296614012697, 0.15037837990645656]],\n",
       "  ['England', 'Italy', [0.46928120547891405, 0.28839668629772847]],\n",
       "  ['Switzerland', 'Croatia', [0.31714504951316924, 0.42466530934941227]]],\n",
       " 'Quarter-Final': [['Spain',\n",
       "   'Germany',\n",
       "   [0.37854820904043907, 0.37592461484972217]],\n",
       "  ['Portugal', 'Netherlands', [0.41438063799281055, 0.3224200316386556]],\n",
       "  ['Belgium', 'France', [0.2966688971460265, 0.4320325573027026]],\n",
       "  ['England', 'Croatia', [0.4883840456457362, 0.25787436077256287]]],\n",
       " 'Semi-Final': [['Spain',\n",
       "   'Portugal',\n",
       "   [0.4083007363223858, 0.32900520718286586]],\n",
       "  ['France', 'England', [0.3229824344396535, 0.41551419181163796]]],\n",
       " 'Final': [['Spain', 'England', [0.3251261767160806, 0.4319113741264091]]]}"
      ]
     },
     "execution_count": 116,
     "metadata": {},
     "output_type": "execute_result"
    }
   ],
   "source": [
    "playoffs"
   ]
  },
  {
   "cell_type": "code",
   "execution_count": null,
   "id": "c78cecfa",
   "metadata": {},
   "outputs": [],
   "source": []
  },
  {
   "cell_type": "code",
   "execution_count": 117,
   "id": "0dc97c3c",
   "metadata": {},
   "outputs": [],
   "source": [
    "import networkx as nx\n",
    "from networkx.drawing.nx_pydot import graphviz_layout"
   ]
  },
  {
   "cell_type": "code",
   "execution_count": null,
   "id": "49cc2c22",
   "metadata": {},
   "outputs": [],
   "source": []
  },
  {
   "cell_type": "code",
   "execution_count": 118,
   "id": "0b5bcc55",
   "metadata": {},
   "outputs": [
    {
     "ename": "FileNotFoundError",
     "evalue": "[Errno 2] \"twopi\" not found in path.",
     "output_type": "error",
     "traceback": [
      "\u001b[0;31m---------------------------------------------------------------------------\u001b[0m",
      "\u001b[0;31mFileNotFoundError\u001b[0m                         Traceback (most recent call last)",
      "\u001b[0;32m~/anaconda3/lib/python3.7/site-packages/pydot/core.py\u001b[0m in \u001b[0;36mcreate\u001b[0;34m(self, prog, format, encoding)\u001b[0m\n\u001b[1;32m   1755\u001b[0m                 \u001b[0marguments\u001b[0m\u001b[0;34m=\u001b[0m\u001b[0marguments\u001b[0m\u001b[0;34m,\u001b[0m\u001b[0;34m\u001b[0m\u001b[0;34m\u001b[0m\u001b[0m\n\u001b[0;32m-> 1756\u001b[0;31m                 \u001b[0mworking_dir\u001b[0m\u001b[0;34m=\u001b[0m\u001b[0mtmp_dir\u001b[0m\u001b[0;34m,\u001b[0m\u001b[0;34m\u001b[0m\u001b[0;34m\u001b[0m\u001b[0m\n\u001b[0m\u001b[1;32m   1757\u001b[0m             )\n",
      "\u001b[0;32m~/anaconda3/lib/python3.7/site-packages/pydot/core.py\u001b[0m in \u001b[0;36mcall_graphviz\u001b[0;34m(program, arguments, working_dir, **kwargs)\u001b[0m\n\u001b[1;32m    139\u001b[0m         \u001b[0mstdout\u001b[0m\u001b[0;34m=\u001b[0m\u001b[0msubprocess\u001b[0m\u001b[0;34m.\u001b[0m\u001b[0mPIPE\u001b[0m\u001b[0;34m,\u001b[0m\u001b[0;34m\u001b[0m\u001b[0;34m\u001b[0m\u001b[0m\n\u001b[0;32m--> 140\u001b[0;31m         \u001b[0;34m**\u001b[0m\u001b[0mkwargs\u001b[0m\u001b[0;34m,\u001b[0m\u001b[0;34m\u001b[0m\u001b[0;34m\u001b[0m\u001b[0m\n\u001b[0m\u001b[1;32m    141\u001b[0m     )\n",
      "\u001b[0;32m~/anaconda3/lib/python3.7/subprocess.py\u001b[0m in \u001b[0;36m__init__\u001b[0;34m(self, args, bufsize, executable, stdin, stdout, stderr, preexec_fn, close_fds, shell, cwd, env, universal_newlines, startupinfo, creationflags, restore_signals, start_new_session, pass_fds, encoding, errors, text)\u001b[0m\n\u001b[1;32m    768\u001b[0m                                 \u001b[0merrread\u001b[0m\u001b[0;34m,\u001b[0m \u001b[0merrwrite\u001b[0m\u001b[0;34m,\u001b[0m\u001b[0;34m\u001b[0m\u001b[0;34m\u001b[0m\u001b[0m\n\u001b[0;32m--> 769\u001b[0;31m                                 restore_signals, start_new_session)\n\u001b[0m\u001b[1;32m    770\u001b[0m         \u001b[0;32mexcept\u001b[0m\u001b[0;34m:\u001b[0m\u001b[0;34m\u001b[0m\u001b[0;34m\u001b[0m\u001b[0m\n",
      "\u001b[0;32m~/anaconda3/lib/python3.7/subprocess.py\u001b[0m in \u001b[0;36m_execute_child\u001b[0;34m(self, args, executable, preexec_fn, close_fds, pass_fds, cwd, env, startupinfo, creationflags, shell, p2cread, p2cwrite, c2pread, c2pwrite, errread, errwrite, restore_signals, start_new_session)\u001b[0m\n\u001b[1;32m   1515\u001b[0m                             \u001b[0merr_msg\u001b[0m \u001b[0;34m+=\u001b[0m \u001b[0;34m': '\u001b[0m \u001b[0;34m+\u001b[0m \u001b[0mrepr\u001b[0m\u001b[0;34m(\u001b[0m\u001b[0merr_filename\u001b[0m\u001b[0;34m)\u001b[0m\u001b[0;34m\u001b[0m\u001b[0;34m\u001b[0m\u001b[0m\n\u001b[0;32m-> 1516\u001b[0;31m                     \u001b[0;32mraise\u001b[0m \u001b[0mchild_exception_type\u001b[0m\u001b[0;34m(\u001b[0m\u001b[0merrno_num\u001b[0m\u001b[0;34m,\u001b[0m \u001b[0merr_msg\u001b[0m\u001b[0;34m,\u001b[0m \u001b[0merr_filename\u001b[0m\u001b[0;34m)\u001b[0m\u001b[0;34m\u001b[0m\u001b[0;34m\u001b[0m\u001b[0m\n\u001b[0m\u001b[1;32m   1517\u001b[0m                 \u001b[0;32mraise\u001b[0m \u001b[0mchild_exception_type\u001b[0m\u001b[0;34m(\u001b[0m\u001b[0merr_msg\u001b[0m\u001b[0;34m)\u001b[0m\u001b[0;34m\u001b[0m\u001b[0;34m\u001b[0m\u001b[0m\n",
      "\u001b[0;31mFileNotFoundError\u001b[0m: [Errno 2] No such file or directory: 'twopi': 'twopi'",
      "\nDuring handling of the above exception, another exception occurred:\n",
      "\u001b[0;31mFileNotFoundError\u001b[0m                         Traceback (most recent call last)",
      "\u001b[0;32m<ipython-input-118-a5558f216f64>\u001b[0m in \u001b[0;36m<module>\u001b[0;34m\u001b[0m\n\u001b[1;32m     19\u001b[0m \u001b[0;34m\u001b[0m\u001b[0m\n\u001b[1;32m     20\u001b[0m \u001b[0;34m\u001b[0m\u001b[0m\n\u001b[0;32m---> 21\u001b[0;31m \u001b[0mpos\u001b[0m\u001b[0;34m=\u001b[0m\u001b[0mgraphviz_layout\u001b[0m\u001b[0;34m(\u001b[0m\u001b[0mG\u001b[0m\u001b[0;34m,\u001b[0m \u001b[0mprog\u001b[0m\u001b[0;34m=\u001b[0m\u001b[0;34m'twopi'\u001b[0m\u001b[0;34m)\u001b[0m\u001b[0;34m\u001b[0m\u001b[0;34m\u001b[0m\u001b[0m\n\u001b[0m\u001b[1;32m     22\u001b[0m \u001b[0mpos\u001b[0m \u001b[0;34m=\u001b[0m \u001b[0;34m{\u001b[0m\u001b[0mint\u001b[0m\u001b[0;34m(\u001b[0m\u001b[0mn\u001b[0m\u001b[0;34m)\u001b[0m\u001b[0;34m:\u001b[0m \u001b[0mpos\u001b[0m\u001b[0;34m[\u001b[0m\u001b[0mn\u001b[0m\u001b[0;34m]\u001b[0m \u001b[0;32mfor\u001b[0m \u001b[0mn\u001b[0m \u001b[0;32min\u001b[0m \u001b[0mpos\u001b[0m\u001b[0;34m.\u001b[0m\u001b[0mkeys\u001b[0m\u001b[0;34m(\u001b[0m\u001b[0;34m)\u001b[0m\u001b[0;34m}\u001b[0m\u001b[0;34m\u001b[0m\u001b[0;34m\u001b[0m\u001b[0m\n\u001b[1;32m     23\u001b[0m \u001b[0;34m\u001b[0m\u001b[0m\n",
      "\u001b[0;32m~/anaconda3/lib/python3.7/site-packages/networkx/drawing/nx_pydot.py\u001b[0m in \u001b[0;36mgraphviz_layout\u001b[0;34m(G, prog, root, **kwds)\u001b[0m\n\u001b[1;32m    259\u001b[0m     \u001b[0mThis\u001b[0m \u001b[0;32mis\u001b[0m \u001b[0ma\u001b[0m \u001b[0mwrapper\u001b[0m \u001b[0;32mfor\u001b[0m \u001b[0mpydot_layout\u001b[0m\u001b[0;34m.\u001b[0m\u001b[0;34m\u001b[0m\u001b[0;34m\u001b[0m\u001b[0m\n\u001b[1;32m    260\u001b[0m     \"\"\"\n\u001b[0;32m--> 261\u001b[0;31m     \u001b[0;32mreturn\u001b[0m \u001b[0mpydot_layout\u001b[0m\u001b[0;34m(\u001b[0m\u001b[0mG\u001b[0m\u001b[0;34m=\u001b[0m\u001b[0mG\u001b[0m\u001b[0;34m,\u001b[0m \u001b[0mprog\u001b[0m\u001b[0;34m=\u001b[0m\u001b[0mprog\u001b[0m\u001b[0;34m,\u001b[0m \u001b[0mroot\u001b[0m\u001b[0;34m=\u001b[0m\u001b[0mroot\u001b[0m\u001b[0;34m,\u001b[0m \u001b[0;34m**\u001b[0m\u001b[0mkwds\u001b[0m\u001b[0;34m)\u001b[0m\u001b[0;34m\u001b[0m\u001b[0;34m\u001b[0m\u001b[0m\n\u001b[0m\u001b[1;32m    262\u001b[0m \u001b[0;34m\u001b[0m\u001b[0m\n\u001b[1;32m    263\u001b[0m \u001b[0;34m\u001b[0m\u001b[0m\n",
      "\u001b[0;32m~/anaconda3/lib/python3.7/site-packages/networkx/drawing/nx_pydot.py\u001b[0m in \u001b[0;36mpydot_layout\u001b[0;34m(G, prog, root, **kwds)\u001b[0m\n\u001b[1;32m    308\u001b[0m     \u001b[0;31m# List of low-level bytes comprising a string in the dot language converted\u001b[0m\u001b[0;34m\u001b[0m\u001b[0;34m\u001b[0m\u001b[0;34m\u001b[0m\u001b[0m\n\u001b[1;32m    309\u001b[0m     \u001b[0;31m# from the passed graph with the passed external GraphViz command.\u001b[0m\u001b[0;34m\u001b[0m\u001b[0;34m\u001b[0m\u001b[0;34m\u001b[0m\u001b[0m\n\u001b[0;32m--> 310\u001b[0;31m     \u001b[0mD_bytes\u001b[0m \u001b[0;34m=\u001b[0m \u001b[0mP\u001b[0m\u001b[0;34m.\u001b[0m\u001b[0mcreate_dot\u001b[0m\u001b[0;34m(\u001b[0m\u001b[0mprog\u001b[0m\u001b[0;34m=\u001b[0m\u001b[0mprog\u001b[0m\u001b[0;34m)\u001b[0m\u001b[0;34m\u001b[0m\u001b[0;34m\u001b[0m\u001b[0m\n\u001b[0m\u001b[1;32m    311\u001b[0m \u001b[0;34m\u001b[0m\u001b[0m\n\u001b[1;32m    312\u001b[0m     \u001b[0;31m# Unique string decoded from these bytes with the preferred locale encoding\u001b[0m\u001b[0;34m\u001b[0m\u001b[0;34m\u001b[0m\u001b[0;34m\u001b[0m\u001b[0m\n",
      "\u001b[0;32m~/anaconda3/lib/python3.7/site-packages/pydot/core.py\u001b[0m in \u001b[0;36mnew_method\u001b[0;34m(f, prog, encoding)\u001b[0m\n\u001b[1;32m   1576\u001b[0m             \u001b[0;32mdef\u001b[0m \u001b[0mnew_method\u001b[0m\u001b[0;34m(\u001b[0m\u001b[0mf\u001b[0m\u001b[0;34m=\u001b[0m\u001b[0mfrmt\u001b[0m\u001b[0;34m,\u001b[0m \u001b[0mprog\u001b[0m\u001b[0;34m=\u001b[0m\u001b[0;32mNone\u001b[0m\u001b[0;34m,\u001b[0m \u001b[0mencoding\u001b[0m\u001b[0;34m=\u001b[0m\u001b[0;32mNone\u001b[0m\u001b[0;34m)\u001b[0m\u001b[0;34m:\u001b[0m\u001b[0;34m\u001b[0m\u001b[0;34m\u001b[0m\u001b[0m\n\u001b[1;32m   1577\u001b[0m                 \u001b[0;34m\"\"\"Refer to docstring of method `create`.\"\"\"\u001b[0m\u001b[0;34m\u001b[0m\u001b[0;34m\u001b[0m\u001b[0m\n\u001b[0;32m-> 1578\u001b[0;31m                 \u001b[0;32mreturn\u001b[0m \u001b[0mself\u001b[0m\u001b[0;34m.\u001b[0m\u001b[0mcreate\u001b[0m\u001b[0;34m(\u001b[0m\u001b[0mformat\u001b[0m\u001b[0;34m=\u001b[0m\u001b[0mf\u001b[0m\u001b[0;34m,\u001b[0m \u001b[0mprog\u001b[0m\u001b[0;34m=\u001b[0m\u001b[0mprog\u001b[0m\u001b[0;34m,\u001b[0m \u001b[0mencoding\u001b[0m\u001b[0;34m=\u001b[0m\u001b[0mencoding\u001b[0m\u001b[0;34m)\u001b[0m\u001b[0;34m\u001b[0m\u001b[0;34m\u001b[0m\u001b[0m\n\u001b[0m\u001b[1;32m   1579\u001b[0m \u001b[0;34m\u001b[0m\u001b[0m\n\u001b[1;32m   1580\u001b[0m             \u001b[0mname\u001b[0m \u001b[0;34m=\u001b[0m \u001b[0;34m\"create_{fmt}\"\u001b[0m\u001b[0;34m.\u001b[0m\u001b[0mformat\u001b[0m\u001b[0;34m(\u001b[0m\u001b[0mfmt\u001b[0m\u001b[0;34m=\u001b[0m\u001b[0mfrmt\u001b[0m\u001b[0;34m)\u001b[0m\u001b[0;34m\u001b[0m\u001b[0;34m\u001b[0m\u001b[0m\n",
      "\u001b[0;32m~/anaconda3/lib/python3.7/site-packages/pydot/core.py\u001b[0m in \u001b[0;36mcreate\u001b[0;34m(self, prog, format, encoding)\u001b[0m\n\u001b[1;32m   1760\u001b[0m                 \u001b[0margs\u001b[0m \u001b[0;34m=\u001b[0m \u001b[0mlist\u001b[0m\u001b[0;34m(\u001b[0m\u001b[0me\u001b[0m\u001b[0;34m.\u001b[0m\u001b[0margs\u001b[0m\u001b[0;34m)\u001b[0m\u001b[0;34m\u001b[0m\u001b[0;34m\u001b[0m\u001b[0m\n\u001b[1;32m   1761\u001b[0m                 \u001b[0margs\u001b[0m\u001b[0;34m[\u001b[0m\u001b[0;36m1\u001b[0m\u001b[0;34m]\u001b[0m \u001b[0;34m=\u001b[0m \u001b[0;34m'\"{prog}\" not found in path.'\u001b[0m\u001b[0;34m.\u001b[0m\u001b[0mformat\u001b[0m\u001b[0;34m(\u001b[0m\u001b[0mprog\u001b[0m\u001b[0;34m=\u001b[0m\u001b[0mprog\u001b[0m\u001b[0;34m)\u001b[0m\u001b[0;34m\u001b[0m\u001b[0;34m\u001b[0m\u001b[0m\n\u001b[0;32m-> 1762\u001b[0;31m                 \u001b[0;32mraise\u001b[0m \u001b[0mOSError\u001b[0m\u001b[0;34m(\u001b[0m\u001b[0;34m*\u001b[0m\u001b[0margs\u001b[0m\u001b[0;34m)\u001b[0m\u001b[0;34m\u001b[0m\u001b[0;34m\u001b[0m\u001b[0m\n\u001b[0m\u001b[1;32m   1763\u001b[0m             \u001b[0;32melse\u001b[0m\u001b[0;34m:\u001b[0m\u001b[0;34m\u001b[0m\u001b[0;34m\u001b[0m\u001b[0m\n\u001b[1;32m   1764\u001b[0m                 \u001b[0;32mraise\u001b[0m\u001b[0;34m\u001b[0m\u001b[0;34m\u001b[0m\u001b[0m\n",
      "\u001b[0;31mFileNotFoundError\u001b[0m: [Errno 2] \"twopi\" not found in path."
     ]
    },
    {
     "data": {
      "text/plain": [
       "<Figure size 1080x720 with 0 Axes>"
      ]
     },
     "metadata": {},
     "output_type": "display_data"
    }
   ],
   "source": [
    "plt.figure(figsize=(15, 10))\n",
    "G = nx.balanced_tree(2, 3)\n",
    "\n",
    "\n",
    "\n",
    "labels = []\n",
    "\n",
    "\n",
    "for p in playoffs.keys():\n",
    "    for game in playoffs[p]:\n",
    "        label = f\"{game[0]}({round(game[2][0], 2)}) \\n {game[1]}({round(game[2][1], 2)})\"\n",
    "        labels.append(label)\n",
    "    \n",
    "labels_dict = {}\n",
    "labels_rev = list(reversed(labels))\n",
    "\n",
    "for l in range(len(list(G.nodes))):\n",
    "    labels_dict[l] = labels_rev[l]\n",
    "\n",
    "\n",
    "pos=graphviz_layout(G, prog='twopi')\n",
    "pos = {int(n): pos[n] for n in pos.keys()}\n",
    "\n",
    "labels_pos = {int(n): (k[0], k[1]-0.08*k[1]) for n,k in pos.items()}\n",
    "center  = pd.DataFrame(pos).mean(axis=1).mean()\n",
    "    \n",
    "\n",
    "\n",
    "nx.draw_networkx(G, pos = pos, with_labels=False, node_color=range(15), edge_color=\"#bbf5bb\", width=10, font_weight='bold',cmap=plt.cm.Greens, node_size=1000)\n",
    "nx.draw_networkx_labels(G, pos = labels_pos, bbox=dict(boxstyle=\"round,pad=0.3\", fc=\"white\", ec=\"black\", lw=.5, alpha=1),labels=labels_dict)\n",
    "texts = [\"Round \\nof 16\", \"Quarter \\n Final\", \"Semi \\n Final\", \"Final\\n\"]\n",
    "pos_y = pos[0][1] + 55\n",
    "for text in reversed(texts):\n",
    "    pos_x = center\n",
    "    pos_y -= 65\n",
    "    plt.text(pos_y, pos_x, text, fontsize = 12)\n",
    "\n",
    "plt.axis('equal')\n",
    "plt.show()"
   ]
  },
  {
   "cell_type": "code",
   "execution_count": null,
   "id": "9f561b3f",
   "metadata": {},
   "outputs": [
    {
     "data": {
      "image/png": "[encoded data removed]",
      "text/plain": [
       "<Figure size 1080x720 with 1 Axes>"
      ]
     },
     "metadata": {
      "needs_background": "light"
     },
     "output_type": "display_data"
    }
   ],
   "source": [
    "# Create a figure and axis\n",
    "plt.figure(figsize=(15, 10))\n",
    "ax = plt.gca()\n",
    "\n",
    "# Calculate positions and labels\n",
    "labels = []\n",
    "for p in playoffs.keys():\n",
    "    for game in playoffs[p]:\n",
    "        label = f\"{game[0]}({round(game[2][0], 2)})\\n{game[1]}({round(game[2][1], 2)})\"\n",
    "        labels.append(label)\n",
    "\n",
    "labels_dict = {i: label for i, label in enumerate(reversed(labels))}\n",
    "\n",
    "# Manually define positions for a balanced tree (adjust as needed)\n",
    "levels = {\n",
    "    'Final': [(0, 0)],\n",
    "    'Semi Final': [(-2, -1), (2, -1)],\n",
    "    'Quarter Final': [(-3, -2), (0, -2), (3, -2)],\n",
    "    'Round of 16': [(-4, -3), (-2, -3), (0, -3), (2, -3), (4, -3)]\n",
    "}\n",
    "\n",
    "# Draw nodes\n",
    "for round_name, pos_list in levels.items():\n",
    "    y = -list(levels.keys()).index(round_name) * 2\n",
    "    for idx, pos in enumerate(pos_list):\n",
    "        x = pos[0]\n",
    "        ax.scatter(x, y, s=1000, c='green', alpha=0.8)\n",
    "        ax.text(x, y, labels_dict[idx], ha='center', va='center', fontsize=10, bbox=dict(boxstyle=\"round,pad=0.3\", fc=\"white\", ec=\"black\", lw=.5))\n",
    "\n",
    "# Add texts for rounds\n",
    "for idx, round_name in enumerate(levels.keys()):\n",
    "    ax.text(0, -idx * 2, round_name, ha='center', va='center', fontsize=12)\n",
    "\n",
    "# Set plot title and adjust layout\n",
    "ax.set_title('Football Tournament Results Tree', fontsize=16)\n",
    "ax.axis('off')  # Turn off axis\n",
    "plt.tight_layout()\n",
    "plt.show()\n"
   ]
  },
  {
   "cell_type": "code",
   "execution_count": null,
   "id": "c619b8b4",
   "metadata": {},
   "outputs": [],
   "source": []
  },
  {
   "cell_type": "code",
   "execution_count": null,
   "id": "eb129cc0",
   "metadata": {},
   "outputs": [],
   "source": []
  },
  {
   "cell_type": "code",
   "execution_count": null,
   "id": "eade169e",
   "metadata": {},
   "outputs": [],
   "source": []
  },
  {
   "cell_type": "code",
   "execution_count": null,
   "id": "1ed71bd4",
   "metadata": {},
   "outputs": [],
   "source": []
  }
 ],
 "metadata": {
  "kernelspec": {
   "display_name": "Python 3 (ipykernel)",
   "language": "python",
   "name": "python3"
  },
  "language_info": {
   "codemirror_mode": {
    "name": "ipython",
    "version": 3
   },
   "file_extension": ".py",
   "mimetype": "text/x-python",
   "name": "python",
   "nbconvert_exporter": "python",
   "pygments_lexer": "ipython3",
   "version": "3.7.1"
  }
 },
 "nbformat": 4,
 "nbformat_minor": 5
}
